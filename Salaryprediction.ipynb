{
 "cells": [
  {
   "cell_type": "code",
   "execution_count": 1,
   "id": "99f04ed4-c9ad-4304-bbba-14d60385557b",
   "metadata": {},
   "outputs": [],
   "source": [
    "import pandas as pd\n",
    "import numpy as np\n",
    "import matplotlib.pyplot as plt\n",
    "import seaborn as sns"
   ]
  },
  {
   "cell_type": "code",
   "execution_count": 2,
   "id": "faae633d-8ccb-4d67-9bce-a5837fbc7dea",
   "metadata": {},
   "outputs": [
    {
     "data": {
      "text/html": [
       "<div>\n",
       "<style scoped>\n",
       "    .dataframe tbody tr th:only-of-type {\n",
       "        vertical-align: middle;\n",
       "    }\n",
       "\n",
       "    .dataframe tbody tr th {\n",
       "        vertical-align: top;\n",
       "    }\n",
       "\n",
       "    .dataframe thead th {\n",
       "        text-align: right;\n",
       "    }\n",
       "</style>\n",
       "<table border=\"1\" class=\"dataframe\">\n",
       "  <thead>\n",
       "    <tr style=\"text-align: right;\">\n",
       "      <th></th>\n",
       "      <th>FIRST NAME</th>\n",
       "      <th>LAST NAME</th>\n",
       "      <th>SEX</th>\n",
       "      <th>DOJ</th>\n",
       "      <th>CURRENT DATE</th>\n",
       "      <th>DESIGNATION</th>\n",
       "      <th>AGE</th>\n",
       "      <th>SALARY</th>\n",
       "      <th>UNIT</th>\n",
       "      <th>LEAVES USED</th>\n",
       "      <th>LEAVES REMAINING</th>\n",
       "      <th>RATINGS</th>\n",
       "      <th>PAST EXP</th>\n",
       "    </tr>\n",
       "  </thead>\n",
       "  <tbody>\n",
       "    <tr>\n",
       "      <th>0</th>\n",
       "      <td>TOMASA</td>\n",
       "      <td>ARMEN</td>\n",
       "      <td>F</td>\n",
       "      <td>5-18-2014</td>\n",
       "      <td>01-07-2016</td>\n",
       "      <td>Analyst</td>\n",
       "      <td>21.0</td>\n",
       "      <td>44570</td>\n",
       "      <td>Finance</td>\n",
       "      <td>24.0</td>\n",
       "      <td>6.0</td>\n",
       "      <td>2.0</td>\n",
       "      <td>0</td>\n",
       "    </tr>\n",
       "    <tr>\n",
       "      <th>1</th>\n",
       "      <td>ANNIE</td>\n",
       "      <td>NaN</td>\n",
       "      <td>F</td>\n",
       "      <td>NaN</td>\n",
       "      <td>01-07-2016</td>\n",
       "      <td>Associate</td>\n",
       "      <td>NaN</td>\n",
       "      <td>89207</td>\n",
       "      <td>Web</td>\n",
       "      <td>NaN</td>\n",
       "      <td>13.0</td>\n",
       "      <td>NaN</td>\n",
       "      <td>7</td>\n",
       "    </tr>\n",
       "    <tr>\n",
       "      <th>2</th>\n",
       "      <td>OLIVE</td>\n",
       "      <td>ANCY</td>\n",
       "      <td>F</td>\n",
       "      <td>7-28-2014</td>\n",
       "      <td>01-07-2016</td>\n",
       "      <td>Analyst</td>\n",
       "      <td>21.0</td>\n",
       "      <td>40955</td>\n",
       "      <td>Finance</td>\n",
       "      <td>23.0</td>\n",
       "      <td>7.0</td>\n",
       "      <td>3.0</td>\n",
       "      <td>0</td>\n",
       "    </tr>\n",
       "    <tr>\n",
       "      <th>3</th>\n",
       "      <td>CHERRY</td>\n",
       "      <td>AQUILAR</td>\n",
       "      <td>F</td>\n",
       "      <td>04-03-2013</td>\n",
       "      <td>01-07-2016</td>\n",
       "      <td>Analyst</td>\n",
       "      <td>22.0</td>\n",
       "      <td>45550</td>\n",
       "      <td>IT</td>\n",
       "      <td>22.0</td>\n",
       "      <td>8.0</td>\n",
       "      <td>3.0</td>\n",
       "      <td>0</td>\n",
       "    </tr>\n",
       "    <tr>\n",
       "      <th>4</th>\n",
       "      <td>LEON</td>\n",
       "      <td>ABOULAHOUD</td>\n",
       "      <td>M</td>\n",
       "      <td>11-20-2014</td>\n",
       "      <td>01-07-2016</td>\n",
       "      <td>Analyst</td>\n",
       "      <td>NaN</td>\n",
       "      <td>43161</td>\n",
       "      <td>Operations</td>\n",
       "      <td>27.0</td>\n",
       "      <td>3.0</td>\n",
       "      <td>NaN</td>\n",
       "      <td>3</td>\n",
       "    </tr>\n",
       "    <tr>\n",
       "      <th>...</th>\n",
       "      <td>...</td>\n",
       "      <td>...</td>\n",
       "      <td>...</td>\n",
       "      <td>...</td>\n",
       "      <td>...</td>\n",
       "      <td>...</td>\n",
       "      <td>...</td>\n",
       "      <td>...</td>\n",
       "      <td>...</td>\n",
       "      <td>...</td>\n",
       "      <td>...</td>\n",
       "      <td>...</td>\n",
       "      <td>...</td>\n",
       "    </tr>\n",
       "    <tr>\n",
       "      <th>2634</th>\n",
       "      <td>KATHERINE</td>\n",
       "      <td>ALSDON</td>\n",
       "      <td>F</td>\n",
       "      <td>6-28-2011</td>\n",
       "      <td>01-07-2016</td>\n",
       "      <td>Senior Manager</td>\n",
       "      <td>36.0</td>\n",
       "      <td>185977</td>\n",
       "      <td>Management</td>\n",
       "      <td>15.0</td>\n",
       "      <td>15.0</td>\n",
       "      <td>5.0</td>\n",
       "      <td>10</td>\n",
       "    </tr>\n",
       "    <tr>\n",
       "      <th>2635</th>\n",
       "      <td>LOUISE</td>\n",
       "      <td>ALTARAS</td>\n",
       "      <td>F</td>\n",
       "      <td>1-14-2014</td>\n",
       "      <td>01-07-2016</td>\n",
       "      <td>Analyst</td>\n",
       "      <td>23.0</td>\n",
       "      <td>45758</td>\n",
       "      <td>IT</td>\n",
       "      <td>17.0</td>\n",
       "      <td>13.0</td>\n",
       "      <td>2.0</td>\n",
       "      <td>0</td>\n",
       "    </tr>\n",
       "    <tr>\n",
       "      <th>2636</th>\n",
       "      <td>RENEE</td>\n",
       "      <td>ALVINO</td>\n",
       "      <td>F</td>\n",
       "      <td>1-23-2014</td>\n",
       "      <td>01-07-2016</td>\n",
       "      <td>Analyst</td>\n",
       "      <td>21.0</td>\n",
       "      <td>47315</td>\n",
       "      <td>Web</td>\n",
       "      <td>29.0</td>\n",
       "      <td>1.0</td>\n",
       "      <td>5.0</td>\n",
       "      <td>0</td>\n",
       "    </tr>\n",
       "    <tr>\n",
       "      <th>2637</th>\n",
       "      <td>TERI</td>\n",
       "      <td>ANASTASIO</td>\n",
       "      <td>F</td>\n",
       "      <td>3-17-2014</td>\n",
       "      <td>01-07-2016</td>\n",
       "      <td>Analyst</td>\n",
       "      <td>24.0</td>\n",
       "      <td>45172</td>\n",
       "      <td>Web</td>\n",
       "      <td>23.0</td>\n",
       "      <td>7.0</td>\n",
       "      <td>3.0</td>\n",
       "      <td>1</td>\n",
       "    </tr>\n",
       "    <tr>\n",
       "      <th>2638</th>\n",
       "      <td>GREGORY</td>\n",
       "      <td>ABARCA</td>\n",
       "      <td>M</td>\n",
       "      <td>9-18-2014</td>\n",
       "      <td>01-07-2016</td>\n",
       "      <td>Analyst</td>\n",
       "      <td>24.0</td>\n",
       "      <td>49176</td>\n",
       "      <td>Marketing</td>\n",
       "      <td>17.0</td>\n",
       "      <td>13.0</td>\n",
       "      <td>2.0</td>\n",
       "      <td>2</td>\n",
       "    </tr>\n",
       "  </tbody>\n",
       "</table>\n",
       "<p>2639 rows × 13 columns</p>\n",
       "</div>"
      ],
      "text/plain": [
       "     FIRST NAME   LAST NAME SEX         DOJ CURRENT DATE     DESIGNATION  \\\n",
       "0        TOMASA       ARMEN   F   5-18-2014   01-07-2016         Analyst   \n",
       "1         ANNIE         NaN   F         NaN   01-07-2016       Associate   \n",
       "2         OLIVE        ANCY   F   7-28-2014   01-07-2016         Analyst   \n",
       "3        CHERRY     AQUILAR   F  04-03-2013   01-07-2016         Analyst   \n",
       "4          LEON  ABOULAHOUD   M  11-20-2014   01-07-2016         Analyst   \n",
       "...         ...         ...  ..         ...          ...             ...   \n",
       "2634  KATHERINE      ALSDON   F   6-28-2011   01-07-2016  Senior Manager   \n",
       "2635     LOUISE     ALTARAS   F   1-14-2014   01-07-2016         Analyst   \n",
       "2636      RENEE      ALVINO   F   1-23-2014   01-07-2016         Analyst   \n",
       "2637       TERI   ANASTASIO   F   3-17-2014   01-07-2016         Analyst   \n",
       "2638    GREGORY      ABARCA   M   9-18-2014   01-07-2016         Analyst   \n",
       "\n",
       "       AGE  SALARY        UNIT  LEAVES USED  LEAVES REMAINING  RATINGS  \\\n",
       "0     21.0   44570     Finance         24.0               6.0      2.0   \n",
       "1      NaN   89207         Web          NaN              13.0      NaN   \n",
       "2     21.0   40955     Finance         23.0               7.0      3.0   \n",
       "3     22.0   45550          IT         22.0               8.0      3.0   \n",
       "4      NaN   43161  Operations         27.0               3.0      NaN   \n",
       "...    ...     ...         ...          ...               ...      ...   \n",
       "2634  36.0  185977  Management         15.0              15.0      5.0   \n",
       "2635  23.0   45758          IT         17.0              13.0      2.0   \n",
       "2636  21.0   47315         Web         29.0               1.0      5.0   \n",
       "2637  24.0   45172         Web         23.0               7.0      3.0   \n",
       "2638  24.0   49176   Marketing         17.0              13.0      2.0   \n",
       "\n",
       "      PAST EXP  \n",
       "0            0  \n",
       "1            7  \n",
       "2            0  \n",
       "3            0  \n",
       "4            3  \n",
       "...        ...  \n",
       "2634        10  \n",
       "2635         0  \n",
       "2636         0  \n",
       "2637         1  \n",
       "2638         2  \n",
       "\n",
       "[2639 rows x 13 columns]"
      ]
     },
     "execution_count": 2,
     "metadata": {},
     "output_type": "execute_result"
    }
   ],
   "source": [
    "salary_data = pd.read_csv('Salary Prediction of Data Professions.csv')\n",
    "salary_data"
   ]
  },
  {
   "cell_type": "code",
   "execution_count": 3,
   "id": "8f5a3794-e103-491b-8fc5-ea1d9913eaab",
   "metadata": {},
   "outputs": [
    {
     "data": {
      "text/plain": [
       "(2639, 13)"
      ]
     },
     "execution_count": 3,
     "metadata": {},
     "output_type": "execute_result"
    }
   ],
   "source": [
    "salary_data.shape"
   ]
  },
  {
   "cell_type": "code",
   "execution_count": 4,
   "id": "4afd07e8-49bb-4e18-b27e-6b8bba678caa",
   "metadata": {},
   "outputs": [
    {
     "data": {
      "text/html": [
       "<div>\n",
       "<style scoped>\n",
       "    .dataframe tbody tr th:only-of-type {\n",
       "        vertical-align: middle;\n",
       "    }\n",
       "\n",
       "    .dataframe tbody tr th {\n",
       "        vertical-align: top;\n",
       "    }\n",
       "\n",
       "    .dataframe thead th {\n",
       "        text-align: right;\n",
       "    }\n",
       "</style>\n",
       "<table border=\"1\" class=\"dataframe\">\n",
       "  <thead>\n",
       "    <tr style=\"text-align: right;\">\n",
       "      <th></th>\n",
       "      <th>first_name</th>\n",
       "      <th>last_name</th>\n",
       "      <th>sex</th>\n",
       "      <th>doj</th>\n",
       "      <th>current_date</th>\n",
       "      <th>designation</th>\n",
       "      <th>age</th>\n",
       "      <th>salary</th>\n",
       "      <th>unit</th>\n",
       "      <th>leaves_used</th>\n",
       "      <th>leaves_remaining</th>\n",
       "      <th>ratings</th>\n",
       "      <th>past_exp</th>\n",
       "    </tr>\n",
       "  </thead>\n",
       "  <tbody>\n",
       "    <tr>\n",
       "      <th>0</th>\n",
       "      <td>TOMASA</td>\n",
       "      <td>ARMEN</td>\n",
       "      <td>F</td>\n",
       "      <td>5-18-2014</td>\n",
       "      <td>01-07-2016</td>\n",
       "      <td>Analyst</td>\n",
       "      <td>21.0</td>\n",
       "      <td>44570</td>\n",
       "      <td>Finance</td>\n",
       "      <td>24.0</td>\n",
       "      <td>6.0</td>\n",
       "      <td>2.0</td>\n",
       "      <td>0</td>\n",
       "    </tr>\n",
       "    <tr>\n",
       "      <th>1</th>\n",
       "      <td>ANNIE</td>\n",
       "      <td>NaN</td>\n",
       "      <td>F</td>\n",
       "      <td>NaN</td>\n",
       "      <td>01-07-2016</td>\n",
       "      <td>Associate</td>\n",
       "      <td>NaN</td>\n",
       "      <td>89207</td>\n",
       "      <td>Web</td>\n",
       "      <td>NaN</td>\n",
       "      <td>13.0</td>\n",
       "      <td>NaN</td>\n",
       "      <td>7</td>\n",
       "    </tr>\n",
       "    <tr>\n",
       "      <th>2</th>\n",
       "      <td>OLIVE</td>\n",
       "      <td>ANCY</td>\n",
       "      <td>F</td>\n",
       "      <td>7-28-2014</td>\n",
       "      <td>01-07-2016</td>\n",
       "      <td>Analyst</td>\n",
       "      <td>21.0</td>\n",
       "      <td>40955</td>\n",
       "      <td>Finance</td>\n",
       "      <td>23.0</td>\n",
       "      <td>7.0</td>\n",
       "      <td>3.0</td>\n",
       "      <td>0</td>\n",
       "    </tr>\n",
       "    <tr>\n",
       "      <th>3</th>\n",
       "      <td>CHERRY</td>\n",
       "      <td>AQUILAR</td>\n",
       "      <td>F</td>\n",
       "      <td>04-03-2013</td>\n",
       "      <td>01-07-2016</td>\n",
       "      <td>Analyst</td>\n",
       "      <td>22.0</td>\n",
       "      <td>45550</td>\n",
       "      <td>IT</td>\n",
       "      <td>22.0</td>\n",
       "      <td>8.0</td>\n",
       "      <td>3.0</td>\n",
       "      <td>0</td>\n",
       "    </tr>\n",
       "    <tr>\n",
       "      <th>4</th>\n",
       "      <td>LEON</td>\n",
       "      <td>ABOULAHOUD</td>\n",
       "      <td>M</td>\n",
       "      <td>11-20-2014</td>\n",
       "      <td>01-07-2016</td>\n",
       "      <td>Analyst</td>\n",
       "      <td>NaN</td>\n",
       "      <td>43161</td>\n",
       "      <td>Operations</td>\n",
       "      <td>27.0</td>\n",
       "      <td>3.0</td>\n",
       "      <td>NaN</td>\n",
       "      <td>3</td>\n",
       "    </tr>\n",
       "  </tbody>\n",
       "</table>\n",
       "</div>"
      ],
      "text/plain": [
       "  first_name   last_name sex         doj current_date designation   age  \\\n",
       "0     TOMASA       ARMEN   F   5-18-2014   01-07-2016     Analyst  21.0   \n",
       "1      ANNIE         NaN   F         NaN   01-07-2016   Associate   NaN   \n",
       "2      OLIVE        ANCY   F   7-28-2014   01-07-2016     Analyst  21.0   \n",
       "3     CHERRY     AQUILAR   F  04-03-2013   01-07-2016     Analyst  22.0   \n",
       "4       LEON  ABOULAHOUD   M  11-20-2014   01-07-2016     Analyst   NaN   \n",
       "\n",
       "   salary        unit  leaves_used  leaves_remaining  ratings  past_exp  \n",
       "0   44570     Finance         24.0               6.0      2.0         0  \n",
       "1   89207         Web          NaN              13.0      NaN         7  \n",
       "2   40955     Finance         23.0               7.0      3.0         0  \n",
       "3   45550          IT         22.0               8.0      3.0         0  \n",
       "4   43161  Operations         27.0               3.0      NaN         3  "
      ]
     },
     "execution_count": 4,
     "metadata": {},
     "output_type": "execute_result"
    }
   ],
   "source": [
    "salary_data.columns = ['first_name', 'last_name', 'sex', 'doj', 'current_date', 'designation', 'age', 'salary', 'unit', 'leaves_used', 'leaves_remaining', 'ratings', 'past_exp']\n",
    "salary_data.head()"
   ]
  },
  {
   "cell_type": "code",
   "execution_count": 5,
   "id": "96e565d0-c8dd-497f-b86e-9f57d81af729",
   "metadata": {},
   "outputs": [
    {
     "data": {
      "text/plain": [
       "pandas.core.frame.DataFrame"
      ]
     },
     "execution_count": 5,
     "metadata": {},
     "output_type": "execute_result"
    }
   ],
   "source": [
    "type(salary_data)"
   ]
  },
  {
   "cell_type": "code",
   "execution_count": 6,
   "id": "1c554066-25c4-4646-a88a-54a33345bc8d",
   "metadata": {},
   "outputs": [
    {
     "data": {
      "text/plain": [
       "first_name           object\n",
       "last_name            object\n",
       "sex                  object\n",
       "doj                  object\n",
       "current_date         object\n",
       "designation          object\n",
       "age                 float64\n",
       "salary                int64\n",
       "unit                 object\n",
       "leaves_used         float64\n",
       "leaves_remaining    float64\n",
       "ratings             float64\n",
       "past_exp              int64\n",
       "dtype: object"
      ]
     },
     "execution_count": 6,
     "metadata": {},
     "output_type": "execute_result"
    }
   ],
   "source": [
    "salary_data.dtypes"
   ]
  },
  {
   "cell_type": "code",
   "execution_count": null,
   "id": "249df955-2c55-4803-a5bb-f64b21df5e16",
   "metadata": {},
   "outputs": [],
   "source": []
  },
  {
   "cell_type": "markdown",
   "id": "f88aede4-f836-444d-a724-87b90bc1c701",
   "metadata": {},
   "source": [
    "# MISSING VALUES/ DUPLICATES"
   ]
  },
  {
   "cell_type": "code",
   "execution_count": 7,
   "id": "cefaea98-cf7a-4521-a117-b21554327055",
   "metadata": {},
   "outputs": [
    {
     "data": {
      "text/plain": [
       "first_name          0\n",
       "last_name           2\n",
       "sex                 0\n",
       "doj                 1\n",
       "current_date        0\n",
       "designation         0\n",
       "age                 3\n",
       "salary              0\n",
       "unit                0\n",
       "leaves_used         3\n",
       "leaves_remaining    2\n",
       "ratings             2\n",
       "past_exp            0\n",
       "dtype: int64"
      ]
     },
     "execution_count": 7,
     "metadata": {},
     "output_type": "execute_result"
    }
   ],
   "source": [
    "salary_data.isnull().sum()"
   ]
  },
  {
   "cell_type": "code",
   "execution_count": 8,
   "id": "e0f4d292-73ab-4312-9f44-fbcd23890232",
   "metadata": {},
   "outputs": [
    {
     "data": {
      "text/plain": [
       "first_name          0\n",
       "last_name           0\n",
       "sex                 0\n",
       "doj                 0\n",
       "current_date        0\n",
       "designation         0\n",
       "age                 0\n",
       "salary              0\n",
       "unit                0\n",
       "leaves_used         0\n",
       "leaves_remaining    0\n",
       "ratings             0\n",
       "past_exp            0\n",
       "dtype: int64"
      ]
     },
     "execution_count": 8,
     "metadata": {},
     "output_type": "execute_result"
    }
   ],
   "source": [
    "salary_data1 = salary_data.dropna(how = 'any')\n",
    "salary_data1.isnull().sum()"
   ]
  },
  {
   "cell_type": "code",
   "execution_count": 9,
   "id": "8d2d2f5c-4c3b-444b-9154-b20b599eb94d",
   "metadata": {},
   "outputs": [
    {
     "data": {
      "text/plain": [
       "first_name          2359\n",
       "last_name           2469\n",
       "sex                    2\n",
       "doj                  965\n",
       "current_date           1\n",
       "designation            6\n",
       "age                   25\n",
       "salary              2299\n",
       "unit                   6\n",
       "leaves_used           16\n",
       "leaves_remaining      16\n",
       "ratings                4\n",
       "past_exp              21\n",
       "dtype: int64"
      ]
     },
     "execution_count": 9,
     "metadata": {},
     "output_type": "execute_result"
    }
   ],
   "source": [
    "salary_data1.nunique()"
   ]
  },
  {
   "cell_type": "code",
   "execution_count": 10,
   "id": "59911e77-8514-4253-ad33-c873e4395668",
   "metadata": {},
   "outputs": [
    {
     "data": {
      "text/plain": [
       "(2631, 13)"
      ]
     },
     "execution_count": 10,
     "metadata": {},
     "output_type": "execute_result"
    }
   ],
   "source": [
    "salary_data1.shape"
   ]
  },
  {
   "cell_type": "code",
   "execution_count": 11,
   "id": "d4c1250a-8797-4c49-9655-9d62227efd46",
   "metadata": {},
   "outputs": [
    {
     "data": {
      "text/plain": [
       "161"
      ]
     },
     "execution_count": 11,
     "metadata": {},
     "output_type": "execute_result"
    }
   ],
   "source": [
    "salary_data1.duplicated().sum()"
   ]
  },
  {
   "cell_type": "code",
   "execution_count": 12,
   "id": "857d22e7-2223-4b0f-bc4b-30c903d8761b",
   "metadata": {},
   "outputs": [
    {
     "data": {
      "text/html": [
       "<div>\n",
       "<style scoped>\n",
       "    .dataframe tbody tr th:only-of-type {\n",
       "        vertical-align: middle;\n",
       "    }\n",
       "\n",
       "    .dataframe tbody tr th {\n",
       "        vertical-align: top;\n",
       "    }\n",
       "\n",
       "    .dataframe thead th {\n",
       "        text-align: right;\n",
       "    }\n",
       "</style>\n",
       "<table border=\"1\" class=\"dataframe\">\n",
       "  <thead>\n",
       "    <tr style=\"text-align: right;\">\n",
       "      <th></th>\n",
       "      <th>first_name</th>\n",
       "      <th>last_name</th>\n",
       "      <th>sex</th>\n",
       "      <th>doj</th>\n",
       "      <th>current_date</th>\n",
       "      <th>designation</th>\n",
       "      <th>age</th>\n",
       "      <th>salary</th>\n",
       "      <th>unit</th>\n",
       "      <th>leaves_used</th>\n",
       "      <th>leaves_remaining</th>\n",
       "      <th>ratings</th>\n",
       "      <th>past_exp</th>\n",
       "    </tr>\n",
       "  </thead>\n",
       "  <tbody>\n",
       "    <tr>\n",
       "      <th>0</th>\n",
       "      <td>TOMASA</td>\n",
       "      <td>ARMEN</td>\n",
       "      <td>F</td>\n",
       "      <td>5-18-2014</td>\n",
       "      <td>01-07-2016</td>\n",
       "      <td>Analyst</td>\n",
       "      <td>21.0</td>\n",
       "      <td>44570</td>\n",
       "      <td>Finance</td>\n",
       "      <td>24.0</td>\n",
       "      <td>6.0</td>\n",
       "      <td>2.0</td>\n",
       "      <td>0</td>\n",
       "    </tr>\n",
       "    <tr>\n",
       "      <th>2</th>\n",
       "      <td>OLIVE</td>\n",
       "      <td>ANCY</td>\n",
       "      <td>F</td>\n",
       "      <td>7-28-2014</td>\n",
       "      <td>01-07-2016</td>\n",
       "      <td>Analyst</td>\n",
       "      <td>21.0</td>\n",
       "      <td>40955</td>\n",
       "      <td>Finance</td>\n",
       "      <td>23.0</td>\n",
       "      <td>7.0</td>\n",
       "      <td>3.0</td>\n",
       "      <td>0</td>\n",
       "    </tr>\n",
       "    <tr>\n",
       "      <th>3</th>\n",
       "      <td>CHERRY</td>\n",
       "      <td>AQUILAR</td>\n",
       "      <td>F</td>\n",
       "      <td>04-03-2013</td>\n",
       "      <td>01-07-2016</td>\n",
       "      <td>Analyst</td>\n",
       "      <td>22.0</td>\n",
       "      <td>45550</td>\n",
       "      <td>IT</td>\n",
       "      <td>22.0</td>\n",
       "      <td>8.0</td>\n",
       "      <td>3.0</td>\n",
       "      <td>0</td>\n",
       "    </tr>\n",
       "    <tr>\n",
       "      <th>6</th>\n",
       "      <td>ELLIOT</td>\n",
       "      <td>AGULAR</td>\n",
       "      <td>M</td>\n",
       "      <td>09-02-2013</td>\n",
       "      <td>01-07-2016</td>\n",
       "      <td>Analyst</td>\n",
       "      <td>22.0</td>\n",
       "      <td>40339</td>\n",
       "      <td>Marketing</td>\n",
       "      <td>19.0</td>\n",
       "      <td>11.0</td>\n",
       "      <td>5.0</td>\n",
       "      <td>0</td>\n",
       "    </tr>\n",
       "    <tr>\n",
       "      <th>8</th>\n",
       "      <td>KATHY</td>\n",
       "      <td>ALSOP</td>\n",
       "      <td>F</td>\n",
       "      <td>6-29-2014</td>\n",
       "      <td>01-07-2016</td>\n",
       "      <td>Senior Analyst</td>\n",
       "      <td>28.0</td>\n",
       "      <td>63478</td>\n",
       "      <td>Operations</td>\n",
       "      <td>20.0</td>\n",
       "      <td>10.0</td>\n",
       "      <td>3.0</td>\n",
       "      <td>1</td>\n",
       "    </tr>\n",
       "    <tr>\n",
       "      <th>...</th>\n",
       "      <td>...</td>\n",
       "      <td>...</td>\n",
       "      <td>...</td>\n",
       "      <td>...</td>\n",
       "      <td>...</td>\n",
       "      <td>...</td>\n",
       "      <td>...</td>\n",
       "      <td>...</td>\n",
       "      <td>...</td>\n",
       "      <td>...</td>\n",
       "      <td>...</td>\n",
       "      <td>...</td>\n",
       "      <td>...</td>\n",
       "    </tr>\n",
       "    <tr>\n",
       "      <th>2634</th>\n",
       "      <td>KATHERINE</td>\n",
       "      <td>ALSDON</td>\n",
       "      <td>F</td>\n",
       "      <td>6-28-2011</td>\n",
       "      <td>01-07-2016</td>\n",
       "      <td>Senior Manager</td>\n",
       "      <td>36.0</td>\n",
       "      <td>185977</td>\n",
       "      <td>Management</td>\n",
       "      <td>15.0</td>\n",
       "      <td>15.0</td>\n",
       "      <td>5.0</td>\n",
       "      <td>10</td>\n",
       "    </tr>\n",
       "    <tr>\n",
       "      <th>2635</th>\n",
       "      <td>LOUISE</td>\n",
       "      <td>ALTARAS</td>\n",
       "      <td>F</td>\n",
       "      <td>1-14-2014</td>\n",
       "      <td>01-07-2016</td>\n",
       "      <td>Analyst</td>\n",
       "      <td>23.0</td>\n",
       "      <td>45758</td>\n",
       "      <td>IT</td>\n",
       "      <td>17.0</td>\n",
       "      <td>13.0</td>\n",
       "      <td>2.0</td>\n",
       "      <td>0</td>\n",
       "    </tr>\n",
       "    <tr>\n",
       "      <th>2636</th>\n",
       "      <td>RENEE</td>\n",
       "      <td>ALVINO</td>\n",
       "      <td>F</td>\n",
       "      <td>1-23-2014</td>\n",
       "      <td>01-07-2016</td>\n",
       "      <td>Analyst</td>\n",
       "      <td>21.0</td>\n",
       "      <td>47315</td>\n",
       "      <td>Web</td>\n",
       "      <td>29.0</td>\n",
       "      <td>1.0</td>\n",
       "      <td>5.0</td>\n",
       "      <td>0</td>\n",
       "    </tr>\n",
       "    <tr>\n",
       "      <th>2637</th>\n",
       "      <td>TERI</td>\n",
       "      <td>ANASTASIO</td>\n",
       "      <td>F</td>\n",
       "      <td>3-17-2014</td>\n",
       "      <td>01-07-2016</td>\n",
       "      <td>Analyst</td>\n",
       "      <td>24.0</td>\n",
       "      <td>45172</td>\n",
       "      <td>Web</td>\n",
       "      <td>23.0</td>\n",
       "      <td>7.0</td>\n",
       "      <td>3.0</td>\n",
       "      <td>1</td>\n",
       "    </tr>\n",
       "    <tr>\n",
       "      <th>2638</th>\n",
       "      <td>GREGORY</td>\n",
       "      <td>ABARCA</td>\n",
       "      <td>M</td>\n",
       "      <td>9-18-2014</td>\n",
       "      <td>01-07-2016</td>\n",
       "      <td>Analyst</td>\n",
       "      <td>24.0</td>\n",
       "      <td>49176</td>\n",
       "      <td>Marketing</td>\n",
       "      <td>17.0</td>\n",
       "      <td>13.0</td>\n",
       "      <td>2.0</td>\n",
       "      <td>2</td>\n",
       "    </tr>\n",
       "  </tbody>\n",
       "</table>\n",
       "<p>2470 rows × 13 columns</p>\n",
       "</div>"
      ],
      "text/plain": [
       "     first_name  last_name sex         doj current_date     designation   age  \\\n",
       "0        TOMASA      ARMEN   F   5-18-2014   01-07-2016         Analyst  21.0   \n",
       "2         OLIVE       ANCY   F   7-28-2014   01-07-2016         Analyst  21.0   \n",
       "3        CHERRY    AQUILAR   F  04-03-2013   01-07-2016         Analyst  22.0   \n",
       "6        ELLIOT     AGULAR   M  09-02-2013   01-07-2016         Analyst  22.0   \n",
       "8         KATHY      ALSOP   F   6-29-2014   01-07-2016  Senior Analyst  28.0   \n",
       "...         ...        ...  ..         ...          ...             ...   ...   \n",
       "2634  KATHERINE     ALSDON   F   6-28-2011   01-07-2016  Senior Manager  36.0   \n",
       "2635     LOUISE    ALTARAS   F   1-14-2014   01-07-2016         Analyst  23.0   \n",
       "2636      RENEE     ALVINO   F   1-23-2014   01-07-2016         Analyst  21.0   \n",
       "2637       TERI  ANASTASIO   F   3-17-2014   01-07-2016         Analyst  24.0   \n",
       "2638    GREGORY     ABARCA   M   9-18-2014   01-07-2016         Analyst  24.0   \n",
       "\n",
       "      salary        unit  leaves_used  leaves_remaining  ratings  past_exp  \n",
       "0      44570     Finance         24.0               6.0      2.0         0  \n",
       "2      40955     Finance         23.0               7.0      3.0         0  \n",
       "3      45550          IT         22.0               8.0      3.0         0  \n",
       "6      40339   Marketing         19.0              11.0      5.0         0  \n",
       "8      63478  Operations         20.0              10.0      3.0         1  \n",
       "...      ...         ...          ...               ...      ...       ...  \n",
       "2634  185977  Management         15.0              15.0      5.0        10  \n",
       "2635   45758          IT         17.0              13.0      2.0         0  \n",
       "2636   47315         Web         29.0               1.0      5.0         0  \n",
       "2637   45172         Web         23.0               7.0      3.0         1  \n",
       "2638   49176   Marketing         17.0              13.0      2.0         2  \n",
       "\n",
       "[2470 rows x 13 columns]"
      ]
     },
     "metadata": {},
     "output_type": "display_data"
    }
   ],
   "source": [
    "display(salary_data1.drop_duplicates())"
   ]
  },
  {
   "cell_type": "markdown",
   "id": "5228fe47-be9b-4789-9fe9-56f7bf510385",
   "metadata": {},
   "source": [
    "# Defining numerical and categorial columns"
   ]
  },
  {
   "cell_type": "code",
   "execution_count": 13,
   "id": "5f3da051-8a39-421d-8468-f9854ec2a3ba",
   "metadata": {},
   "outputs": [],
   "source": [
    "numeric_features = [feature for feature in salary_data1.columns if salary_data1[feature].dtype != '0']\n",
    "categoric_features = [feature for feature in salary_data1.columns if salary_data1[feature].dtype == '0']"
   ]
  },
  {
   "cell_type": "markdown",
   "id": "35519647-1e9d-4a76-a360-dc5f0d046e7f",
   "metadata": {},
   "source": [
    "# DATA VISUALIZATION"
   ]
  },
  {
   "cell_type": "code",
   "execution_count": 14,
   "id": "5a552d43-9a9a-4ad9-84c2-a1b65e27bab0",
   "metadata": {},
   "outputs": [
    {
     "data": {
      "text/html": [
       "<div>\n",
       "<style scoped>\n",
       "    .dataframe tbody tr th:only-of-type {\n",
       "        vertical-align: middle;\n",
       "    }\n",
       "\n",
       "    .dataframe tbody tr th {\n",
       "        vertical-align: top;\n",
       "    }\n",
       "\n",
       "    .dataframe thead th {\n",
       "        text-align: right;\n",
       "    }\n",
       "</style>\n",
       "<table border=\"1\" class=\"dataframe\">\n",
       "  <thead>\n",
       "    <tr style=\"text-align: right;\">\n",
       "      <th></th>\n",
       "      <th>age</th>\n",
       "      <th>salary</th>\n",
       "      <th>leaves_used</th>\n",
       "      <th>leaves_remaining</th>\n",
       "      <th>ratings</th>\n",
       "      <th>past_exp</th>\n",
       "    </tr>\n",
       "  </thead>\n",
       "  <tbody>\n",
       "    <tr>\n",
       "      <th>count</th>\n",
       "      <td>2631.000000</td>\n",
       "      <td>2631.000000</td>\n",
       "      <td>2631.000000</td>\n",
       "      <td>2631.000000</td>\n",
       "      <td>2631.000000</td>\n",
       "      <td>2631.000000</td>\n",
       "    </tr>\n",
       "    <tr>\n",
       "      <th>mean</th>\n",
       "      <td>24.754846</td>\n",
       "      <td>58117.644242</td>\n",
       "      <td>22.498670</td>\n",
       "      <td>7.501330</td>\n",
       "      <td>3.486507</td>\n",
       "      <td>1.562904</td>\n",
       "    </tr>\n",
       "    <tr>\n",
       "      <th>std</th>\n",
       "      <td>3.904705</td>\n",
       "      <td>36867.732515</td>\n",
       "      <td>4.603014</td>\n",
       "      <td>4.603014</td>\n",
       "      <td>1.114248</td>\n",
       "      <td>2.725973</td>\n",
       "    </tr>\n",
       "    <tr>\n",
       "      <th>min</th>\n",
       "      <td>21.000000</td>\n",
       "      <td>40001.000000</td>\n",
       "      <td>15.000000</td>\n",
       "      <td>0.000000</td>\n",
       "      <td>2.000000</td>\n",
       "      <td>0.000000</td>\n",
       "    </tr>\n",
       "    <tr>\n",
       "      <th>25%</th>\n",
       "      <td>22.000000</td>\n",
       "      <td>43418.000000</td>\n",
       "      <td>19.000000</td>\n",
       "      <td>4.000000</td>\n",
       "      <td>2.000000</td>\n",
       "      <td>0.000000</td>\n",
       "    </tr>\n",
       "    <tr>\n",
       "      <th>50%</th>\n",
       "      <td>24.000000</td>\n",
       "      <td>46783.000000</td>\n",
       "      <td>22.000000</td>\n",
       "      <td>8.000000</td>\n",
       "      <td>3.000000</td>\n",
       "      <td>1.000000</td>\n",
       "    </tr>\n",
       "    <tr>\n",
       "      <th>75%</th>\n",
       "      <td>25.000000</td>\n",
       "      <td>51401.500000</td>\n",
       "      <td>26.000000</td>\n",
       "      <td>11.000000</td>\n",
       "      <td>4.000000</td>\n",
       "      <td>2.000000</td>\n",
       "    </tr>\n",
       "    <tr>\n",
       "      <th>max</th>\n",
       "      <td>45.000000</td>\n",
       "      <td>388112.000000</td>\n",
       "      <td>30.000000</td>\n",
       "      <td>15.000000</td>\n",
       "      <td>5.000000</td>\n",
       "      <td>23.000000</td>\n",
       "    </tr>\n",
       "  </tbody>\n",
       "</table>\n",
       "</div>"
      ],
      "text/plain": [
       "               age         salary  leaves_used  leaves_remaining      ratings  \\\n",
       "count  2631.000000    2631.000000  2631.000000       2631.000000  2631.000000   \n",
       "mean     24.754846   58117.644242    22.498670          7.501330     3.486507   \n",
       "std       3.904705   36867.732515     4.603014          4.603014     1.114248   \n",
       "min      21.000000   40001.000000    15.000000          0.000000     2.000000   \n",
       "25%      22.000000   43418.000000    19.000000          4.000000     2.000000   \n",
       "50%      24.000000   46783.000000    22.000000          8.000000     3.000000   \n",
       "75%      25.000000   51401.500000    26.000000         11.000000     4.000000   \n",
       "max      45.000000  388112.000000    30.000000         15.000000     5.000000   \n",
       "\n",
       "          past_exp  \n",
       "count  2631.000000  \n",
       "mean      1.562904  \n",
       "std       2.725973  \n",
       "min       0.000000  \n",
       "25%       0.000000  \n",
       "50%       1.000000  \n",
       "75%       2.000000  \n",
       "max      23.000000  "
      ]
     },
     "execution_count": 14,
     "metadata": {},
     "output_type": "execute_result"
    }
   ],
   "source": [
    "salary_data1.describe()"
   ]
  },
  {
   "cell_type": "code",
   "execution_count": 15,
   "id": "fab8b1f1-1987-487b-aef3-85fc12696dc1",
   "metadata": {},
   "outputs": [
    {
     "data": {
      "text/plain": [
       "(2631, 13)"
      ]
     },
     "execution_count": 15,
     "metadata": {},
     "output_type": "execute_result"
    }
   ],
   "source": [
    "salary_data1.shape"
   ]
  },
  {
   "cell_type": "code",
   "execution_count": 16,
   "id": "eacaeb6b-c91a-42f6-ab47-800cb7c3b26b",
   "metadata": {},
   "outputs": [
    {
     "data": {
      "text/html": [
       "<div>\n",
       "<style scoped>\n",
       "    .dataframe tbody tr th:only-of-type {\n",
       "        vertical-align: middle;\n",
       "    }\n",
       "\n",
       "    .dataframe tbody tr th {\n",
       "        vertical-align: top;\n",
       "    }\n",
       "\n",
       "    .dataframe thead th {\n",
       "        text-align: right;\n",
       "    }\n",
       "</style>\n",
       "<table border=\"1\" class=\"dataframe\">\n",
       "  <thead>\n",
       "    <tr style=\"text-align: right;\">\n",
       "      <th></th>\n",
       "      <th>age</th>\n",
       "      <th>salary</th>\n",
       "      <th>leaves_used</th>\n",
       "      <th>leaves_remaining</th>\n",
       "      <th>ratings</th>\n",
       "      <th>past_exp</th>\n",
       "    </tr>\n",
       "  </thead>\n",
       "  <tbody>\n",
       "    <tr>\n",
       "      <th>age</th>\n",
       "      <td>1.000000</td>\n",
       "      <td>0.871929</td>\n",
       "      <td>0.007143</td>\n",
       "      <td>-0.007143</td>\n",
       "      <td>0.039134</td>\n",
       "      <td>0.903659</td>\n",
       "    </tr>\n",
       "    <tr>\n",
       "      <th>salary</th>\n",
       "      <td>0.871929</td>\n",
       "      <td>1.000000</td>\n",
       "      <td>0.006850</td>\n",
       "      <td>-0.006850</td>\n",
       "      <td>0.021702</td>\n",
       "      <td>0.854024</td>\n",
       "    </tr>\n",
       "    <tr>\n",
       "      <th>leaves_used</th>\n",
       "      <td>0.007143</td>\n",
       "      <td>0.006850</td>\n",
       "      <td>1.000000</td>\n",
       "      <td>-1.000000</td>\n",
       "      <td>0.004352</td>\n",
       "      <td>0.007832</td>\n",
       "    </tr>\n",
       "    <tr>\n",
       "      <th>leaves_remaining</th>\n",
       "      <td>-0.007143</td>\n",
       "      <td>-0.006850</td>\n",
       "      <td>-1.000000</td>\n",
       "      <td>1.000000</td>\n",
       "      <td>-0.004352</td>\n",
       "      <td>-0.007832</td>\n",
       "    </tr>\n",
       "    <tr>\n",
       "      <th>ratings</th>\n",
       "      <td>0.039134</td>\n",
       "      <td>0.021702</td>\n",
       "      <td>0.004352</td>\n",
       "      <td>-0.004352</td>\n",
       "      <td>1.000000</td>\n",
       "      <td>0.042497</td>\n",
       "    </tr>\n",
       "    <tr>\n",
       "      <th>past_exp</th>\n",
       "      <td>0.903659</td>\n",
       "      <td>0.854024</td>\n",
       "      <td>0.007832</td>\n",
       "      <td>-0.007832</td>\n",
       "      <td>0.042497</td>\n",
       "      <td>1.000000</td>\n",
       "    </tr>\n",
       "  </tbody>\n",
       "</table>\n",
       "</div>"
      ],
      "text/plain": [
       "                       age    salary  leaves_used  leaves_remaining   ratings  \\\n",
       "age               1.000000  0.871929     0.007143         -0.007143  0.039134   \n",
       "salary            0.871929  1.000000     0.006850         -0.006850  0.021702   \n",
       "leaves_used       0.007143  0.006850     1.000000         -1.000000  0.004352   \n",
       "leaves_remaining -0.007143 -0.006850    -1.000000          1.000000 -0.004352   \n",
       "ratings           0.039134  0.021702     0.004352         -0.004352  1.000000   \n",
       "past_exp          0.903659  0.854024     0.007832         -0.007832  0.042497   \n",
       "\n",
       "                  past_exp  \n",
       "age               0.903659  \n",
       "salary            0.854024  \n",
       "leaves_used       0.007832  \n",
       "leaves_remaining -0.007832  \n",
       "ratings           0.042497  \n",
       "past_exp          1.000000  "
      ]
     },
     "execution_count": 16,
     "metadata": {},
     "output_type": "execute_result"
    }
   ],
   "source": [
    "corr = salary_data1[['age', 'salary', 'leaves_used', 'leaves_remaining', 'ratings', 'past_exp']].corr()\n",
    "corr"
   ]
  },
  {
   "cell_type": "code",
   "execution_count": 17,
   "id": "08ab37e6-5863-4467-a17a-e1a390efca3c",
   "metadata": {},
   "outputs": [
    {
     "data": {
      "text/plain": [
       "<Axes: >"
      ]
     },
     "execution_count": 17,
     "metadata": {},
     "output_type": "execute_result"
    },
    {
     "data": {
      "image/png": "[encoded data removed]",
      "text/plain": [
       "<Figure size 640x480 with 2 Axes>"
      ]
     },
     "metadata": {},
     "output_type": "display_data"
    }
   ],
   "source": [
    "sns.heatmap( corr, annot = True)"
   ]
  },
  {
   "cell_type": "code",
   "execution_count": 18,
   "id": "e2d321a3-8359-4a58-b76f-9193a963417a",
   "metadata": {},
   "outputs": [
    {
     "data": {
      "text/plain": [
       "<Axes: xlabel='unit'>"
      ]
     },
     "execution_count": 18,
     "metadata": {},
     "output_type": "execute_result"
    },
    {
     "data": {
      "image/png": "[encoded data removed]",
      "text/plain": [
       "<Figure size 640x480 with 1 Axes>"
      ]
     },
     "metadata": {},
     "output_type": "display_data"
    }
   ],
   "source": [
    "salary_data1['unit'].value_counts().plot(kind = 'bar')"
   ]
  },
  {
   "cell_type": "code",
   "execution_count": 19,
   "id": "eda7a390-1225-4f10-b3a4-c37b52425088",
   "metadata": {},
   "outputs": [
    {
     "data": {
      "text/plain": [
       "<Axes: xlabel='designation'>"
      ]
     },
     "execution_count": 19,
     "metadata": {},
     "output_type": "execute_result"
    },
    {
     "data": {
      "image/png": "[encoded data removed]",
      "text/plain": [
       "<Figure size 640x480 with 1 Axes>"
      ]
     },
     "metadata": {},
     "output_type": "display_data"
    }
   ],
   "source": [
    "salary_data['designation'].value_counts().plot(kind = 'bar')"
   ]
  },
  {
   "cell_type": "code",
   "execution_count": 20,
   "id": "b2a2f336-c952-4855-a8fd-2a8e1a265525",
   "metadata": {},
   "outputs": [
    {
     "data": {
      "text/plain": [
       "<Axes: xlabel='sex'>"
      ]
     },
     "execution_count": 20,
     "metadata": {},
     "output_type": "execute_result"
    },
    {
     "data": {
      "image/png": "[encoded data removed]",
      "text/plain": [
       "<Figure size 640x480 with 1 Axes>"
      ]
     },
     "metadata": {},
     "output_type": "display_data"
    }
   ],
   "source": [
    "salary_data['sex'].value_counts().plot(kind = 'bar')"
   ]
  },
  {
   "cell_type": "code",
   "execution_count": 21,
   "id": "1c6f46f1-0726-43e8-9be0-86c5a22d09ab",
   "metadata": {},
   "outputs": [
    {
     "data": {
      "text/plain": [
       "<Axes: ylabel='Frequency'>"
      ]
     },
     "execution_count": 21,
     "metadata": {},
     "output_type": "execute_result"
    },
    {
     "data": {
      "image/png": "[encoded data removed]",
      "text/plain": [
       "<Figure size 640x480 with 1 Axes>"
      ]
     },
     "metadata": {},
     "output_type": "display_data"
    }
   ],
   "source": [
    "salary_data1.age.plot(kind = 'hist')"
   ]
  },
  {
   "cell_type": "code",
   "execution_count": 22,
   "id": "516c9f21-3ba1-4136-9dfe-5d9276b2a371",
   "metadata": {},
   "outputs": [
    {
     "data": {
      "text/plain": [
       "<Axes: ylabel='Frequency'>"
      ]
     },
     "execution_count": 22,
     "metadata": {},
     "output_type": "execute_result"
    },
    {
     "data": {
      "image/png": "[encoded data removed]",
      "text/plain": [
       "<Figure size 640x480 with 1 Axes>"
      ]
     },
     "metadata": {},
     "output_type": "display_data"
    }
   ],
   "source": [
    "salary_data1.leaves_used.plot(kind = 'hist')"
   ]
  },
  {
   "cell_type": "code",
   "execution_count": 23,
   "id": "9629a143-2b4b-46d8-8897-1e47e619cbfe",
   "metadata": {},
   "outputs": [
    {
     "data": {
      "text/plain": [
       "<Axes: ylabel='Frequency'>"
      ]
     },
     "execution_count": 23,
     "metadata": {},
     "output_type": "execute_result"
    },
    {
     "data": {
      "image/png": "[encoded data removed]",
      "text/plain": [
       "<Figure size 640x480 with 1 Axes>"
      ]
     },
     "metadata": {},
     "output_type": "display_data"
    }
   ],
   "source": [
    "salary_data1.leaves_remaining.plot(kind = 'hist')"
   ]
  },
  {
   "cell_type": "code",
   "execution_count": 24,
   "id": "acd51fe6-e3fe-40d3-8d8e-cabee17c0d7d",
   "metadata": {},
   "outputs": [
    {
     "data": {
      "image/png": "[encoded data removed]",
      "text/plain": [
       "<Figure size 500x500 with 1 Axes>"
      ]
     },
     "metadata": {},
     "output_type": "display_data"
    }
   ],
   "source": [
    "job_title_salaries = salary_data1.groupby('designation')['salary'].mean().sort_values(ascending=False)\n",
    "fig, ax = plt.subplots(figsize=(5, 5))\n",
    "ax.barh(job_title_salaries.index, job_title_salaries.values)\n",
    "ax.set_title('Average Salaries by Designation')\n",
    "ax.set_xlabel('Salary')\n",
    "ax.set_ylabel('Job Title')\n",
    "plt.show()"
   ]
  },
  {
   "cell_type": "markdown",
   "id": "df9c3c26-2aaf-4b43-adc4-4521dd777de4",
   "metadata": {},
   "source": [
    "# FEATURE ENGINEERING"
   ]
  },
  {
   "cell_type": "code",
   "execution_count": 25,
   "id": "f130c6a9-c6fd-41f4-bd28-d1fa3352e3fd",
   "metadata": {},
   "outputs": [
    {
     "data": {
      "text/html": [
       "<div>\n",
       "<style scoped>\n",
       "    .dataframe tbody tr th:only-of-type {\n",
       "        vertical-align: middle;\n",
       "    }\n",
       "\n",
       "    .dataframe tbody tr th {\n",
       "        vertical-align: top;\n",
       "    }\n",
       "\n",
       "    .dataframe thead th {\n",
       "        text-align: right;\n",
       "    }\n",
       "</style>\n",
       "<table border=\"1\" class=\"dataframe\">\n",
       "  <thead>\n",
       "    <tr style=\"text-align: right;\">\n",
       "      <th></th>\n",
       "      <th>first_name</th>\n",
       "      <th>last_name</th>\n",
       "      <th>sex</th>\n",
       "      <th>doj</th>\n",
       "      <th>current_date</th>\n",
       "      <th>designation</th>\n",
       "      <th>age</th>\n",
       "      <th>salary</th>\n",
       "      <th>unit</th>\n",
       "      <th>leaves_used</th>\n",
       "      <th>leaves_remaining</th>\n",
       "      <th>ratings</th>\n",
       "      <th>past_exp</th>\n",
       "    </tr>\n",
       "  </thead>\n",
       "  <tbody>\n",
       "    <tr>\n",
       "      <th>0</th>\n",
       "      <td>TOMASA</td>\n",
       "      <td>ARMEN</td>\n",
       "      <td>F</td>\n",
       "      <td>5-18-2014</td>\n",
       "      <td>01-07-2016</td>\n",
       "      <td>Analyst</td>\n",
       "      <td>21.0</td>\n",
       "      <td>44570</td>\n",
       "      <td>Finance</td>\n",
       "      <td>24.0</td>\n",
       "      <td>6.0</td>\n",
       "      <td>2.0</td>\n",
       "      <td>0</td>\n",
       "    </tr>\n",
       "    <tr>\n",
       "      <th>2</th>\n",
       "      <td>OLIVE</td>\n",
       "      <td>ANCY</td>\n",
       "      <td>F</td>\n",
       "      <td>7-28-2014</td>\n",
       "      <td>01-07-2016</td>\n",
       "      <td>Analyst</td>\n",
       "      <td>21.0</td>\n",
       "      <td>40955</td>\n",
       "      <td>Finance</td>\n",
       "      <td>23.0</td>\n",
       "      <td>7.0</td>\n",
       "      <td>3.0</td>\n",
       "      <td>0</td>\n",
       "    </tr>\n",
       "    <tr>\n",
       "      <th>3</th>\n",
       "      <td>CHERRY</td>\n",
       "      <td>AQUILAR</td>\n",
       "      <td>F</td>\n",
       "      <td>04-03-2013</td>\n",
       "      <td>01-07-2016</td>\n",
       "      <td>Analyst</td>\n",
       "      <td>22.0</td>\n",
       "      <td>45550</td>\n",
       "      <td>IT</td>\n",
       "      <td>22.0</td>\n",
       "      <td>8.0</td>\n",
       "      <td>3.0</td>\n",
       "      <td>0</td>\n",
       "    </tr>\n",
       "    <tr>\n",
       "      <th>6</th>\n",
       "      <td>ELLIOT</td>\n",
       "      <td>AGULAR</td>\n",
       "      <td>M</td>\n",
       "      <td>09-02-2013</td>\n",
       "      <td>01-07-2016</td>\n",
       "      <td>Analyst</td>\n",
       "      <td>22.0</td>\n",
       "      <td>40339</td>\n",
       "      <td>Marketing</td>\n",
       "      <td>19.0</td>\n",
       "      <td>11.0</td>\n",
       "      <td>5.0</td>\n",
       "      <td>0</td>\n",
       "    </tr>\n",
       "    <tr>\n",
       "      <th>8</th>\n",
       "      <td>KATHY</td>\n",
       "      <td>ALSOP</td>\n",
       "      <td>F</td>\n",
       "      <td>6-29-2014</td>\n",
       "      <td>01-07-2016</td>\n",
       "      <td>Senior Analyst</td>\n",
       "      <td>28.0</td>\n",
       "      <td>63478</td>\n",
       "      <td>Operations</td>\n",
       "      <td>20.0</td>\n",
       "      <td>10.0</td>\n",
       "      <td>3.0</td>\n",
       "      <td>1</td>\n",
       "    </tr>\n",
       "  </tbody>\n",
       "</table>\n",
       "</div>"
      ],
      "text/plain": [
       "  first_name last_name sex         doj current_date     designation   age  \\\n",
       "0     TOMASA     ARMEN   F   5-18-2014   01-07-2016         Analyst  21.0   \n",
       "2      OLIVE      ANCY   F   7-28-2014   01-07-2016         Analyst  21.0   \n",
       "3     CHERRY   AQUILAR   F  04-03-2013   01-07-2016         Analyst  22.0   \n",
       "6     ELLIOT    AGULAR   M  09-02-2013   01-07-2016         Analyst  22.0   \n",
       "8      KATHY     ALSOP   F   6-29-2014   01-07-2016  Senior Analyst  28.0   \n",
       "\n",
       "   salary        unit  leaves_used  leaves_remaining  ratings  past_exp  \n",
       "0   44570     Finance         24.0               6.0      2.0         0  \n",
       "2   40955     Finance         23.0               7.0      3.0         0  \n",
       "3   45550          IT         22.0               8.0      3.0         0  \n",
       "6   40339   Marketing         19.0              11.0      5.0         0  \n",
       "8   63478  Operations         20.0              10.0      3.0         1  "
      ]
     },
     "execution_count": 25,
     "metadata": {},
     "output_type": "execute_result"
    }
   ],
   "source": [
    "salary_data1.head()"
   ]
  },
  {
   "cell_type": "code",
   "execution_count": null,
   "id": "81293dc6-d19b-4868-bc53-7c65d86d5343",
   "metadata": {},
   "outputs": [],
   "source": []
  },
  {
   "cell_type": "markdown",
   "id": "d0172c70-59d9-4149-a1ba-b093389fd3a1",
   "metadata": {},
   "source": [
    "# Converting categorial into numerical(Label Encoding)"
   ]
  },
  {
   "cell_type": "code",
   "execution_count": 26,
   "id": "9248d40c-a8b0-4970-bf71-041761394023",
   "metadata": {},
   "outputs": [],
   "source": [
    "from sklearn.preprocessing import LabelEncoder\n",
    "Label_Encoder = LabelEncoder()"
   ]
  },
  {
   "cell_type": "code",
   "execution_count": 27,
   "id": "5477be88-cb08-4eab-a0ca-74b93d2173a4",
   "metadata": {},
   "outputs": [
    {
     "name": "stderr",
     "output_type": "stream",
     "text": [
      "C:\\Users\\agraw\\AppData\\Local\\Temp\\ipykernel_25948\\3008496896.py:1: SettingWithCopyWarning: \n",
      "A value is trying to be set on a copy of a slice from a DataFrame.\n",
      "Try using .loc[row_indexer,col_indexer] = value instead\n",
      "\n",
      "See the caveats in the documentation: https://pandas.pydata.org/pandas-docs/stable/user_guide/indexing.html#returning-a-view-versus-a-copy\n",
      "  salary_data1['designation_Encode'] = Label_Encoder.fit_transform(salary_data1['designation'])\n"
     ]
    }
   ],
   "source": [
    "salary_data1['designation_Encode'] = Label_Encoder.fit_transform(salary_data1['designation'])"
   ]
  },
  {
   "cell_type": "code",
   "execution_count": 28,
   "id": "711d3823-5612-41d6-9329-03c36f39d611",
   "metadata": {},
   "outputs": [
    {
     "name": "stderr",
     "output_type": "stream",
     "text": [
      "C:\\Users\\agraw\\AppData\\Local\\Temp\\ipykernel_25948\\1006570734.py:1: SettingWithCopyWarning: \n",
      "A value is trying to be set on a copy of a slice from a DataFrame.\n",
      "Try using .loc[row_indexer,col_indexer] = value instead\n",
      "\n",
      "See the caveats in the documentation: https://pandas.pydata.org/pandas-docs/stable/user_guide/indexing.html#returning-a-view-versus-a-copy\n",
      "  salary_data1['unit_Encode'] = Label_Encoder.fit_transform(salary_data1['unit'])\n"
     ]
    }
   ],
   "source": [
    "salary_data1['unit_Encode'] = Label_Encoder.fit_transform(salary_data1['unit'])"
   ]
  },
  {
   "cell_type": "code",
   "execution_count": 29,
   "id": "31301b5f-d8fe-491f-8c9a-b9102fc23837",
   "metadata": {},
   "outputs": [
    {
     "name": "stderr",
     "output_type": "stream",
     "text": [
      "C:\\Users\\agraw\\AppData\\Local\\Temp\\ipykernel_25948\\4101873156.py:1: SettingWithCopyWarning: \n",
      "A value is trying to be set on a copy of a slice from a DataFrame.\n",
      "Try using .loc[row_indexer,col_indexer] = value instead\n",
      "\n",
      "See the caveats in the documentation: https://pandas.pydata.org/pandas-docs/stable/user_guide/indexing.html#returning-a-view-versus-a-copy\n",
      "  salary_data1['sex_Encode'] = Label_Encoder.fit_transform(salary_data1['sex'])\n"
     ]
    }
   ],
   "source": [
    "salary_data1['sex_Encode'] = Label_Encoder.fit_transform(salary_data1['sex'])"
   ]
  },
  {
   "cell_type": "code",
   "execution_count": 30,
   "id": "07dd3906-0807-47a9-aa87-f7e83cdd9652",
   "metadata": {},
   "outputs": [
    {
     "name": "stderr",
     "output_type": "stream",
     "text": [
      "C:\\Users\\agraw\\AppData\\Local\\Temp\\ipykernel_25948\\2956419550.py:1: SettingWithCopyWarning: \n",
      "A value is trying to be set on a copy of a slice from a DataFrame.\n",
      "Try using .loc[row_indexer,col_indexer] = value instead\n",
      "\n",
      "See the caveats in the documentation: https://pandas.pydata.org/pandas-docs/stable/user_guide/indexing.html#returning-a-view-versus-a-copy\n",
      "  salary_data1['doj_Encode'] = Label_Encoder.fit_transform(salary_data1['doj'])\n"
     ]
    }
   ],
   "source": [
    "salary_data1['doj_Encode'] = Label_Encoder.fit_transform(salary_data1['doj'])"
   ]
  },
  {
   "cell_type": "code",
   "execution_count": 31,
   "id": "eac510e9-8855-4346-bc69-40476f94c0d1",
   "metadata": {},
   "outputs": [
    {
     "name": "stderr",
     "output_type": "stream",
     "text": [
      "C:\\Users\\agraw\\AppData\\Local\\Temp\\ipykernel_25948\\2621605809.py:1: SettingWithCopyWarning: \n",
      "A value is trying to be set on a copy of a slice from a DataFrame.\n",
      "Try using .loc[row_indexer,col_indexer] = value instead\n",
      "\n",
      "See the caveats in the documentation: https://pandas.pydata.org/pandas-docs/stable/user_guide/indexing.html#returning-a-view-versus-a-copy\n",
      "  salary_data1['current_date_Encode'] = Label_Encoder.fit_transform(salary_data1['current_date'])\n"
     ]
    }
   ],
   "source": [
    "salary_data1['current_date_Encode'] = Label_Encoder.fit_transform(salary_data1['current_date'])"
   ]
  },
  {
   "cell_type": "code",
   "execution_count": 32,
   "id": "12ffecaf-aa98-4ef1-bd88-7b5c3d75c174",
   "metadata": {},
   "outputs": [
    {
     "data": {
      "text/html": [
       "<div>\n",
       "<style scoped>\n",
       "    .dataframe tbody tr th:only-of-type {\n",
       "        vertical-align: middle;\n",
       "    }\n",
       "\n",
       "    .dataframe tbody tr th {\n",
       "        vertical-align: top;\n",
       "    }\n",
       "\n",
       "    .dataframe thead th {\n",
       "        text-align: right;\n",
       "    }\n",
       "</style>\n",
       "<table border=\"1\" class=\"dataframe\">\n",
       "  <thead>\n",
       "    <tr style=\"text-align: right;\">\n",
       "      <th></th>\n",
       "      <th>first_name</th>\n",
       "      <th>last_name</th>\n",
       "      <th>sex</th>\n",
       "      <th>doj</th>\n",
       "      <th>current_date</th>\n",
       "      <th>designation</th>\n",
       "      <th>age</th>\n",
       "      <th>salary</th>\n",
       "      <th>unit</th>\n",
       "      <th>leaves_used</th>\n",
       "      <th>leaves_remaining</th>\n",
       "      <th>ratings</th>\n",
       "      <th>past_exp</th>\n",
       "      <th>designation_Encode</th>\n",
       "      <th>unit_Encode</th>\n",
       "      <th>sex_Encode</th>\n",
       "      <th>doj_Encode</th>\n",
       "      <th>current_date_Encode</th>\n",
       "    </tr>\n",
       "  </thead>\n",
       "  <tbody>\n",
       "    <tr>\n",
       "      <th>0</th>\n",
       "      <td>TOMASA</td>\n",
       "      <td>ARMEN</td>\n",
       "      <td>F</td>\n",
       "      <td>5-18-2014</td>\n",
       "      <td>01-07-2016</td>\n",
       "      <td>Analyst</td>\n",
       "      <td>21.0</td>\n",
       "      <td>44570</td>\n",
       "      <td>Finance</td>\n",
       "      <td>24.0</td>\n",
       "      <td>6.0</td>\n",
       "      <td>2.0</td>\n",
       "      <td>0</td>\n",
       "      <td>0</td>\n",
       "      <td>0</td>\n",
       "      <td>0</td>\n",
       "      <td>749</td>\n",
       "      <td>0</td>\n",
       "    </tr>\n",
       "    <tr>\n",
       "      <th>2</th>\n",
       "      <td>OLIVE</td>\n",
       "      <td>ANCY</td>\n",
       "      <td>F</td>\n",
       "      <td>7-28-2014</td>\n",
       "      <td>01-07-2016</td>\n",
       "      <td>Analyst</td>\n",
       "      <td>21.0</td>\n",
       "      <td>40955</td>\n",
       "      <td>Finance</td>\n",
       "      <td>23.0</td>\n",
       "      <td>7.0</td>\n",
       "      <td>3.0</td>\n",
       "      <td>0</td>\n",
       "      <td>0</td>\n",
       "      <td>0</td>\n",
       "      <td>0</td>\n",
       "      <td>863</td>\n",
       "      <td>0</td>\n",
       "    </tr>\n",
       "    <tr>\n",
       "      <th>3</th>\n",
       "      <td>CHERRY</td>\n",
       "      <td>AQUILAR</td>\n",
       "      <td>F</td>\n",
       "      <td>04-03-2013</td>\n",
       "      <td>01-07-2016</td>\n",
       "      <td>Analyst</td>\n",
       "      <td>22.0</td>\n",
       "      <td>45550</td>\n",
       "      <td>IT</td>\n",
       "      <td>22.0</td>\n",
       "      <td>8.0</td>\n",
       "      <td>3.0</td>\n",
       "      <td>0</td>\n",
       "      <td>0</td>\n",
       "      <td>1</td>\n",
       "      <td>0</td>\n",
       "      <td>108</td>\n",
       "      <td>0</td>\n",
       "    </tr>\n",
       "    <tr>\n",
       "      <th>6</th>\n",
       "      <td>ELLIOT</td>\n",
       "      <td>AGULAR</td>\n",
       "      <td>M</td>\n",
       "      <td>09-02-2013</td>\n",
       "      <td>01-07-2016</td>\n",
       "      <td>Analyst</td>\n",
       "      <td>22.0</td>\n",
       "      <td>40339</td>\n",
       "      <td>Marketing</td>\n",
       "      <td>19.0</td>\n",
       "      <td>11.0</td>\n",
       "      <td>5.0</td>\n",
       "      <td>0</td>\n",
       "      <td>0</td>\n",
       "      <td>3</td>\n",
       "      <td>1</td>\n",
       "      <td>261</td>\n",
       "      <td>0</td>\n",
       "    </tr>\n",
       "    <tr>\n",
       "      <th>8</th>\n",
       "      <td>KATHY</td>\n",
       "      <td>ALSOP</td>\n",
       "      <td>F</td>\n",
       "      <td>6-29-2014</td>\n",
       "      <td>01-07-2016</td>\n",
       "      <td>Senior Analyst</td>\n",
       "      <td>28.0</td>\n",
       "      <td>63478</td>\n",
       "      <td>Operations</td>\n",
       "      <td>20.0</td>\n",
       "      <td>10.0</td>\n",
       "      <td>3.0</td>\n",
       "      <td>1</td>\n",
       "      <td>4</td>\n",
       "      <td>4</td>\n",
       "      <td>0</td>\n",
       "      <td>823</td>\n",
       "      <td>0</td>\n",
       "    </tr>\n",
       "  </tbody>\n",
       "</table>\n",
       "</div>"
      ],
      "text/plain": [
       "  first_name last_name sex         doj current_date     designation   age  \\\n",
       "0     TOMASA     ARMEN   F   5-18-2014   01-07-2016         Analyst  21.0   \n",
       "2      OLIVE      ANCY   F   7-28-2014   01-07-2016         Analyst  21.0   \n",
       "3     CHERRY   AQUILAR   F  04-03-2013   01-07-2016         Analyst  22.0   \n",
       "6     ELLIOT    AGULAR   M  09-02-2013   01-07-2016         Analyst  22.0   \n",
       "8      KATHY     ALSOP   F   6-29-2014   01-07-2016  Senior Analyst  28.0   \n",
       "\n",
       "   salary        unit  leaves_used  leaves_remaining  ratings  past_exp  \\\n",
       "0   44570     Finance         24.0               6.0      2.0         0   \n",
       "2   40955     Finance         23.0               7.0      3.0         0   \n",
       "3   45550          IT         22.0               8.0      3.0         0   \n",
       "6   40339   Marketing         19.0              11.0      5.0         0   \n",
       "8   63478  Operations         20.0              10.0      3.0         1   \n",
       "\n",
       "   designation_Encode  unit_Encode  sex_Encode  doj_Encode  \\\n",
       "0                   0            0           0         749   \n",
       "2                   0            0           0         863   \n",
       "3                   0            1           0         108   \n",
       "6                   0            3           1         261   \n",
       "8                   4            4           0         823   \n",
       "\n",
       "   current_date_Encode  \n",
       "0                    0  \n",
       "2                    0  \n",
       "3                    0  \n",
       "6                    0  \n",
       "8                    0  "
      ]
     },
     "execution_count": 32,
     "metadata": {},
     "output_type": "execute_result"
    }
   ],
   "source": [
    "salary_data1.head()"
   ]
  },
  {
   "cell_type": "code",
   "execution_count": 33,
   "id": "0c432aa4-5b14-4009-a7ed-377de228b722",
   "metadata": {},
   "outputs": [],
   "source": [
    "from sklearn.preprocessing import StandardScaler\n",
    "std_scaler = StandardScaler()"
   ]
  },
  {
   "cell_type": "code",
   "execution_count": 34,
   "id": "195dcc88-5b66-451a-a59e-0df15eab93c3",
   "metadata": {},
   "outputs": [
    {
     "name": "stderr",
     "output_type": "stream",
     "text": [
      "C:\\Users\\agraw\\AppData\\Local\\Temp\\ipykernel_25948\\1379306584.py:1: SettingWithCopyWarning: \n",
      "A value is trying to be set on a copy of a slice from a DataFrame.\n",
      "Try using .loc[row_indexer,col_indexer] = value instead\n",
      "\n",
      "See the caveats in the documentation: https://pandas.pydata.org/pandas-docs/stable/user_guide/indexing.html#returning-a-view-versus-a-copy\n",
      "  salary_data1['age_scaled'] = std_scaler.fit_transform(salary_data1[['age']])\n",
      "C:\\Users\\agraw\\AppData\\Local\\Temp\\ipykernel_25948\\1379306584.py:2: SettingWithCopyWarning: \n",
      "A value is trying to be set on a copy of a slice from a DataFrame.\n",
      "Try using .loc[row_indexer,col_indexer] = value instead\n",
      "\n",
      "See the caveats in the documentation: https://pandas.pydata.org/pandas-docs/stable/user_guide/indexing.html#returning-a-view-versus-a-copy\n",
      "  salary_data1['leaves_used_scaled'] = std_scaler.fit_transform(salary_data1[['leaves_used']])\n",
      "C:\\Users\\agraw\\AppData\\Local\\Temp\\ipykernel_25948\\1379306584.py:3: SettingWithCopyWarning: \n",
      "A value is trying to be set on a copy of a slice from a DataFrame.\n",
      "Try using .loc[row_indexer,col_indexer] = value instead\n",
      "\n",
      "See the caveats in the documentation: https://pandas.pydata.org/pandas-docs/stable/user_guide/indexing.html#returning-a-view-versus-a-copy\n",
      "  salary_data1['leaves_remaining_scaled'] = std_scaler.fit_transform(salary_data1[['leaves_remaining']])\n"
     ]
    },
    {
     "ename": "KeyError",
     "evalue": "\"None of [Index(['rating'], dtype='object')] are in the [columns]\"",
     "output_type": "error",
     "traceback": [
      "\u001b[1;31m---------------------------------------------------------------------------\u001b[0m",
      "\u001b[1;31mKeyError\u001b[0m                                  Traceback (most recent call last)",
      "Cell \u001b[1;32mIn[34], line 4\u001b[0m\n\u001b[0;32m      2\u001b[0m salary_data1[\u001b[38;5;124m'\u001b[39m\u001b[38;5;124mleaves_used_scaled\u001b[39m\u001b[38;5;124m'\u001b[39m] \u001b[38;5;241m=\u001b[39m std_scaler\u001b[38;5;241m.\u001b[39mfit_transform(salary_data1[[\u001b[38;5;124m'\u001b[39m\u001b[38;5;124mleaves_used\u001b[39m\u001b[38;5;124m'\u001b[39m]])\n\u001b[0;32m      3\u001b[0m salary_data1[\u001b[38;5;124m'\u001b[39m\u001b[38;5;124mleaves_remaining_scaled\u001b[39m\u001b[38;5;124m'\u001b[39m] \u001b[38;5;241m=\u001b[39m std_scaler\u001b[38;5;241m.\u001b[39mfit_transform(salary_data1[[\u001b[38;5;124m'\u001b[39m\u001b[38;5;124mleaves_remaining\u001b[39m\u001b[38;5;124m'\u001b[39m]])\n\u001b[1;32m----> 4\u001b[0m salary_data1[\u001b[38;5;124m'\u001b[39m\u001b[38;5;124mratings_scaled\u001b[39m\u001b[38;5;124m'\u001b[39m] \u001b[38;5;241m=\u001b[39m std_scaler\u001b[38;5;241m.\u001b[39mfit_transform(\u001b[43msalary_data1\u001b[49m\u001b[43m[\u001b[49m\u001b[43m[\u001b[49m\u001b[38;5;124;43m'\u001b[39;49m\u001b[38;5;124;43mrating\u001b[39;49m\u001b[38;5;124;43m'\u001b[39;49m\u001b[43m]\u001b[49m\u001b[43m]\u001b[49m)\n\u001b[0;32m      5\u001b[0m salary_data1[\u001b[38;5;124m'\u001b[39m\u001b[38;5;124mpast_exp_scaled\u001b[39m\u001b[38;5;124m'\u001b[39m] \u001b[38;5;241m=\u001b[39m std_scaler\u001b[38;5;241m.\u001b[39mfit_transform(salary_data1[[\u001b[38;5;124m'\u001b[39m\u001b[38;5;124mpast_exp\u001b[39m\u001b[38;5;124m'\u001b[39m]])\n",
      "File \u001b[1;32m~\\AppData\\Local\\Programs\\Python\\Python312\\Lib\\site-packages\\pandas\\core\\frame.py:4108\u001b[0m, in \u001b[0;36mDataFrame.__getitem__\u001b[1;34m(self, key)\u001b[0m\n\u001b[0;32m   4106\u001b[0m     \u001b[38;5;28;01mif\u001b[39;00m is_iterator(key):\n\u001b[0;32m   4107\u001b[0m         key \u001b[38;5;241m=\u001b[39m \u001b[38;5;28mlist\u001b[39m(key)\n\u001b[1;32m-> 4108\u001b[0m     indexer \u001b[38;5;241m=\u001b[39m \u001b[38;5;28;43mself\u001b[39;49m\u001b[38;5;241;43m.\u001b[39;49m\u001b[43mcolumns\u001b[49m\u001b[38;5;241;43m.\u001b[39;49m\u001b[43m_get_indexer_strict\u001b[49m\u001b[43m(\u001b[49m\u001b[43mkey\u001b[49m\u001b[43m,\u001b[49m\u001b[43m \u001b[49m\u001b[38;5;124;43m\"\u001b[39;49m\u001b[38;5;124;43mcolumns\u001b[39;49m\u001b[38;5;124;43m\"\u001b[39;49m\u001b[43m)\u001b[49m[\u001b[38;5;241m1\u001b[39m]\n\u001b[0;32m   4110\u001b[0m \u001b[38;5;66;03m# take() does not accept boolean indexers\u001b[39;00m\n\u001b[0;32m   4111\u001b[0m \u001b[38;5;28;01mif\u001b[39;00m \u001b[38;5;28mgetattr\u001b[39m(indexer, \u001b[38;5;124m\"\u001b[39m\u001b[38;5;124mdtype\u001b[39m\u001b[38;5;124m\"\u001b[39m, \u001b[38;5;28;01mNone\u001b[39;00m) \u001b[38;5;241m==\u001b[39m \u001b[38;5;28mbool\u001b[39m:\n",
      "File \u001b[1;32m~\\AppData\\Local\\Programs\\Python\\Python312\\Lib\\site-packages\\pandas\\core\\indexes\\base.py:6200\u001b[0m, in \u001b[0;36mIndex._get_indexer_strict\u001b[1;34m(self, key, axis_name)\u001b[0m\n\u001b[0;32m   6197\u001b[0m \u001b[38;5;28;01melse\u001b[39;00m:\n\u001b[0;32m   6198\u001b[0m     keyarr, indexer, new_indexer \u001b[38;5;241m=\u001b[39m \u001b[38;5;28mself\u001b[39m\u001b[38;5;241m.\u001b[39m_reindex_non_unique(keyarr)\n\u001b[1;32m-> 6200\u001b[0m \u001b[38;5;28;43mself\u001b[39;49m\u001b[38;5;241;43m.\u001b[39;49m\u001b[43m_raise_if_missing\u001b[49m\u001b[43m(\u001b[49m\u001b[43mkeyarr\u001b[49m\u001b[43m,\u001b[49m\u001b[43m \u001b[49m\u001b[43mindexer\u001b[49m\u001b[43m,\u001b[49m\u001b[43m \u001b[49m\u001b[43maxis_name\u001b[49m\u001b[43m)\u001b[49m\n\u001b[0;32m   6202\u001b[0m keyarr \u001b[38;5;241m=\u001b[39m \u001b[38;5;28mself\u001b[39m\u001b[38;5;241m.\u001b[39mtake(indexer)\n\u001b[0;32m   6203\u001b[0m \u001b[38;5;28;01mif\u001b[39;00m \u001b[38;5;28misinstance\u001b[39m(key, Index):\n\u001b[0;32m   6204\u001b[0m     \u001b[38;5;66;03m# GH 42790 - Preserve name from an Index\u001b[39;00m\n",
      "File \u001b[1;32m~\\AppData\\Local\\Programs\\Python\\Python312\\Lib\\site-packages\\pandas\\core\\indexes\\base.py:6249\u001b[0m, in \u001b[0;36mIndex._raise_if_missing\u001b[1;34m(self, key, indexer, axis_name)\u001b[0m\n\u001b[0;32m   6247\u001b[0m \u001b[38;5;28;01mif\u001b[39;00m nmissing:\n\u001b[0;32m   6248\u001b[0m     \u001b[38;5;28;01mif\u001b[39;00m nmissing \u001b[38;5;241m==\u001b[39m \u001b[38;5;28mlen\u001b[39m(indexer):\n\u001b[1;32m-> 6249\u001b[0m         \u001b[38;5;28;01mraise\u001b[39;00m \u001b[38;5;167;01mKeyError\u001b[39;00m(\u001b[38;5;124mf\u001b[39m\u001b[38;5;124m\"\u001b[39m\u001b[38;5;124mNone of [\u001b[39m\u001b[38;5;132;01m{\u001b[39;00mkey\u001b[38;5;132;01m}\u001b[39;00m\u001b[38;5;124m] are in the [\u001b[39m\u001b[38;5;132;01m{\u001b[39;00maxis_name\u001b[38;5;132;01m}\u001b[39;00m\u001b[38;5;124m]\u001b[39m\u001b[38;5;124m\"\u001b[39m)\n\u001b[0;32m   6251\u001b[0m     not_found \u001b[38;5;241m=\u001b[39m \u001b[38;5;28mlist\u001b[39m(ensure_index(key)[missing_mask\u001b[38;5;241m.\u001b[39mnonzero()[\u001b[38;5;241m0\u001b[39m]]\u001b[38;5;241m.\u001b[39munique())\n\u001b[0;32m   6252\u001b[0m     \u001b[38;5;28;01mraise\u001b[39;00m \u001b[38;5;167;01mKeyError\u001b[39;00m(\u001b[38;5;124mf\u001b[39m\u001b[38;5;124m\"\u001b[39m\u001b[38;5;132;01m{\u001b[39;00mnot_found\u001b[38;5;132;01m}\u001b[39;00m\u001b[38;5;124m not in index\u001b[39m\u001b[38;5;124m\"\u001b[39m)\n",
      "\u001b[1;31mKeyError\u001b[0m: \"None of [Index(['rating'], dtype='object')] are in the [columns]\""
     ]
    }
   ],
   "source": [
    "salary_data1['age_scaled'] = std_scaler.fit_transform(salary_data1[['age']])\n",
    "salary_data1['leaves_used_scaled'] = std_scaler.fit_transform(salary_data1[['leaves_used']])\n",
    "salary_data1['leaves_remaining_scaled'] = std_scaler.fit_transform(salary_data1[['leaves_remaining']])\n",
    "salary_data1['ratings_scaled'] = std_scaler.fit_transform(salary_data1[['rating']])\n",
    "salary_data1['past_exp_scaled'] = std_scaler.fit_transform(salary_data1[['past_exp']])"
   ]
  },
  {
   "cell_type": "code",
   "execution_count": null,
   "id": "a388706b-7c76-4d0e-8765-9f6ab67fa664",
   "metadata": {},
   "outputs": [],
   "source": [
    "salary_data1.head()\n"
   ]
  },
  {
   "cell_type": "code",
   "execution_count": 42,
   "id": "e57dfc83-20be-4ed0-8a50-1634d55fab91",
   "metadata": {},
   "outputs": [],
   "source": [
    "x = salary_data1[['designation_Encode',\t'unit_Encode','doj_Encode','current_date_Encode',\t'sex_Encode','age_scaled','leaves_used_scaled','leaves_remaining_scaled']] \n",
    "y = salary_data1['salary']"
   ]
  },
  {
   "cell_type": "code",
   "execution_count": 43,
   "id": "fce0d575-45ae-4c87-bce4-b23330fb1c5f",
   "metadata": {},
   "outputs": [
    {
     "data": {
      "text/html": [
       "<div>\n",
       "<style scoped>\n",
       "    .dataframe tbody tr th:only-of-type {\n",
       "        vertical-align: middle;\n",
       "    }\n",
       "\n",
       "    .dataframe tbody tr th {\n",
       "        vertical-align: top;\n",
       "    }\n",
       "\n",
       "    .dataframe thead th {\n",
       "        text-align: right;\n",
       "    }\n",
       "</style>\n",
       "<table border=\"1\" class=\"dataframe\">\n",
       "  <thead>\n",
       "    <tr style=\"text-align: right;\">\n",
       "      <th></th>\n",
       "      <th>designation_Encode</th>\n",
       "      <th>unit_Encode</th>\n",
       "      <th>doj_Encode</th>\n",
       "      <th>current_date_Encode</th>\n",
       "      <th>sex_Encode</th>\n",
       "      <th>age_scaled</th>\n",
       "      <th>leaves_used_scaled</th>\n",
       "      <th>leaves_remaining_scaled</th>\n",
       "    </tr>\n",
       "  </thead>\n",
       "  <tbody>\n",
       "    <tr>\n",
       "      <th>0</th>\n",
       "      <td>0</td>\n",
       "      <td>0</td>\n",
       "      <td>749</td>\n",
       "      <td>0</td>\n",
       "      <td>0</td>\n",
       "      <td>-0.961804</td>\n",
       "      <td>0.326224</td>\n",
       "      <td>-0.326224</td>\n",
       "    </tr>\n",
       "    <tr>\n",
       "      <th>2</th>\n",
       "      <td>0</td>\n",
       "      <td>0</td>\n",
       "      <td>863</td>\n",
       "      <td>0</td>\n",
       "      <td>0</td>\n",
       "      <td>-0.961804</td>\n",
       "      <td>0.108934</td>\n",
       "      <td>-0.108934</td>\n",
       "    </tr>\n",
       "    <tr>\n",
       "      <th>3</th>\n",
       "      <td>0</td>\n",
       "      <td>1</td>\n",
       "      <td>108</td>\n",
       "      <td>0</td>\n",
       "      <td>0</td>\n",
       "      <td>-0.705654</td>\n",
       "      <td>-0.108356</td>\n",
       "      <td>0.108356</td>\n",
       "    </tr>\n",
       "    <tr>\n",
       "      <th>6</th>\n",
       "      <td>0</td>\n",
       "      <td>3</td>\n",
       "      <td>261</td>\n",
       "      <td>0</td>\n",
       "      <td>1</td>\n",
       "      <td>-0.705654</td>\n",
       "      <td>-0.760227</td>\n",
       "      <td>0.760227</td>\n",
       "    </tr>\n",
       "    <tr>\n",
       "      <th>8</th>\n",
       "      <td>4</td>\n",
       "      <td>4</td>\n",
       "      <td>823</td>\n",
       "      <td>0</td>\n",
       "      <td>0</td>\n",
       "      <td>0.831246</td>\n",
       "      <td>-0.542937</td>\n",
       "      <td>0.542937</td>\n",
       "    </tr>\n",
       "  </tbody>\n",
       "</table>\n",
       "</div>"
      ],
      "text/plain": [
       "   designation_Encode  unit_Encode  doj_Encode  current_date_Encode  \\\n",
       "0                   0            0         749                    0   \n",
       "2                   0            0         863                    0   \n",
       "3                   0            1         108                    0   \n",
       "6                   0            3         261                    0   \n",
       "8                   4            4         823                    0   \n",
       "\n",
       "   sex_Encode  age_scaled  leaves_used_scaled  leaves_remaining_scaled  \n",
       "0           0   -0.961804            0.326224                -0.326224  \n",
       "2           0   -0.961804            0.108934                -0.108934  \n",
       "3           0   -0.705654           -0.108356                 0.108356  \n",
       "6           1   -0.705654           -0.760227                 0.760227  \n",
       "8           0    0.831246           -0.542937                 0.542937  "
      ]
     },
     "execution_count": 43,
     "metadata": {},
     "output_type": "execute_result"
    }
   ],
   "source": [
    "x.head()"
   ]
  },
  {
   "cell_type": "markdown",
   "id": "81752cf4-0f00-4f74-ac1d-9a10c6d4f940",
   "metadata": {},
   "source": [
    "Splitting data"
   ]
  },
  {
   "cell_type": "markdown",
   "id": "f083a126-d7fc-4f9f-80df-11ee23de288b",
   "metadata": {},
   "source": [
    "# MODEL TRAINING"
   ]
  },
  {
   "cell_type": "code",
   "execution_count": 44,
   "id": "1f21722e-32e1-48d7-835d-1136e94ea793",
   "metadata": {},
   "outputs": [],
   "source": [
    "from sklearn.model_selection import train_test_split"
   ]
  },
  {
   "cell_type": "code",
   "execution_count": 45,
   "id": "4b353c51-7d0a-4c90-8b22-10e22b5d94d3",
   "metadata": {},
   "outputs": [],
   "source": [
    "x_train, x_test, y_train, y_test = train_test_split(x,y, test_size = 0.2, random_state = 42)"
   ]
  },
  {
   "cell_type": "code",
   "execution_count": 46,
   "id": "d3dbe44e-f672-42cd-aef0-751a406290c5",
   "metadata": {},
   "outputs": [
    {
     "data": {
      "text/plain": [
       "((2104, 8), (2104,))"
      ]
     },
     "execution_count": 46,
     "metadata": {},
     "output_type": "execute_result"
    }
   ],
   "source": [
    "x_train.shape, y_train.shape"
   ]
  },
  {
   "cell_type": "code",
   "execution_count": 47,
   "id": "fb1bb484-4206-4424-86cf-4837876259f7",
   "metadata": {},
   "outputs": [
    {
     "data": {
      "text/html": [
       "<div>\n",
       "<style scoped>\n",
       "    .dataframe tbody tr th:only-of-type {\n",
       "        vertical-align: middle;\n",
       "    }\n",
       "\n",
       "    .dataframe tbody tr th {\n",
       "        vertical-align: top;\n",
       "    }\n",
       "\n",
       "    .dataframe thead th {\n",
       "        text-align: right;\n",
       "    }\n",
       "</style>\n",
       "<table border=\"1\" class=\"dataframe\">\n",
       "  <thead>\n",
       "    <tr style=\"text-align: right;\">\n",
       "      <th></th>\n",
       "      <th>designation_Encode</th>\n",
       "      <th>unit_Encode</th>\n",
       "      <th>doj_Encode</th>\n",
       "      <th>current_date_Encode</th>\n",
       "      <th>sex_Encode</th>\n",
       "      <th>age_scaled</th>\n",
       "      <th>leaves_used_scaled</th>\n",
       "      <th>leaves_remaining_scaled</th>\n",
       "    </tr>\n",
       "  </thead>\n",
       "  <tbody>\n",
       "    <tr>\n",
       "      <th>2366</th>\n",
       "      <td>0</td>\n",
       "      <td>2</td>\n",
       "      <td>223</td>\n",
       "      <td>0</td>\n",
       "      <td>0</td>\n",
       "      <td>-0.961804</td>\n",
       "      <td>-0.108356</td>\n",
       "      <td>0.108356</td>\n",
       "    </tr>\n",
       "    <tr>\n",
       "      <th>490</th>\n",
       "      <td>4</td>\n",
       "      <td>2</td>\n",
       "      <td>62</td>\n",
       "      <td>0</td>\n",
       "      <td>1</td>\n",
       "      <td>0.062796</td>\n",
       "      <td>-1.629388</td>\n",
       "      <td>1.629388</td>\n",
       "    </tr>\n",
       "    <tr>\n",
       "      <th>1207</th>\n",
       "      <td>0</td>\n",
       "      <td>5</td>\n",
       "      <td>64</td>\n",
       "      <td>0</td>\n",
       "      <td>0</td>\n",
       "      <td>-0.705654</td>\n",
       "      <td>0.543515</td>\n",
       "      <td>-0.543515</td>\n",
       "    </tr>\n",
       "    <tr>\n",
       "      <th>446</th>\n",
       "      <td>0</td>\n",
       "      <td>0</td>\n",
       "      <td>464</td>\n",
       "      <td>0</td>\n",
       "      <td>1</td>\n",
       "      <td>0.062796</td>\n",
       "      <td>0.978095</td>\n",
       "      <td>-0.978095</td>\n",
       "    </tr>\n",
       "    <tr>\n",
       "      <th>1194</th>\n",
       "      <td>0</td>\n",
       "      <td>4</td>\n",
       "      <td>371</td>\n",
       "      <td>0</td>\n",
       "      <td>1</td>\n",
       "      <td>0.062796</td>\n",
       "      <td>-0.325646</td>\n",
       "      <td>0.325646</td>\n",
       "    </tr>\n",
       "  </tbody>\n",
       "</table>\n",
       "</div>"
      ],
      "text/plain": [
       "      designation_Encode  unit_Encode  doj_Encode  current_date_Encode  \\\n",
       "2366                   0            2         223                    0   \n",
       "490                    4            2          62                    0   \n",
       "1207                   0            5          64                    0   \n",
       "446                    0            0         464                    0   \n",
       "1194                   0            4         371                    0   \n",
       "\n",
       "      sex_Encode  age_scaled  leaves_used_scaled  leaves_remaining_scaled  \n",
       "2366           0   -0.961804           -0.108356                 0.108356  \n",
       "490            1    0.062796           -1.629388                 1.629388  \n",
       "1207           0   -0.705654            0.543515                -0.543515  \n",
       "446            1    0.062796            0.978095                -0.978095  \n",
       "1194           1    0.062796           -0.325646                 0.325646  "
      ]
     },
     "execution_count": 47,
     "metadata": {},
     "output_type": "execute_result"
    }
   ],
   "source": [
    "x_train.head()"
   ]
  },
  {
   "cell_type": "code",
   "execution_count": 48,
   "id": "f03715d6-a28b-439b-a559-5987180bfa32",
   "metadata": {},
   "outputs": [],
   "source": [
    "from sklearn.tree import DecisionTreeRegressor\n",
    "from sklearn.neighbors import KNeighborsRegressor\n",
    "from sklearn import neighbors"
   ]
  },
  {
   "cell_type": "code",
   "execution_count": 49,
   "id": "9f4925c0-74f0-487d-9658-0666c965f6ab",
   "metadata": {},
   "outputs": [],
   "source": [
    "dt=DecisionTreeRegressor()"
   ]
  },
  {
   "cell_type": "code",
   "execution_count": 50,
   "id": "97758b3e-beff-4f2c-8ee1-c930daf26924",
   "metadata": {},
   "outputs": [
    {
     "data": {
      "text/html": [
       "<style>#sk-container-id-1 {\n",
       "  /* Definition of color scheme common for light and dark mode */\n",
       "  --sklearn-color-text: black;\n",
       "  --sklearn-color-line: gray;\n",
       "  /* Definition of color scheme for unfitted estimators */\n",
       "  --sklearn-color-unfitted-level-0: #fff5e6;\n",
       "  --sklearn-color-unfitted-level-1: #f6e4d2;\n",
       "  --sklearn-color-unfitted-level-2: #ffe0b3;\n",
       "  --sklearn-color-unfitted-level-3: chocolate;\n",
       "  /* Definition of color scheme for fitted estimators */\n",
       "  --sklearn-color-fitted-level-0: #f0f8ff;\n",
       "  --sklearn-color-fitted-level-1: #d4ebff;\n",
       "  --sklearn-color-fitted-level-2: #b3dbfd;\n",
       "  --sklearn-color-fitted-level-3: cornflowerblue;\n",
       "\n",
       "  /* Specific color for light theme */\n",
       "  --sklearn-color-text-on-default-background: var(--sg-text-color, var(--theme-code-foreground, var(--jp-content-font-color1, black)));\n",
       "  --sklearn-color-background: var(--sg-background-color, var(--theme-background, var(--jp-layout-color0, white)));\n",
       "  --sklearn-color-border-box: var(--sg-text-color, var(--theme-code-foreground, var(--jp-content-font-color1, black)));\n",
       "  --sklearn-color-icon: #696969;\n",
       "\n",
       "  @media (prefers-color-scheme: dark) {\n",
       "    /* Redefinition of color scheme for dark theme */\n",
       "    --sklearn-color-text-on-default-background: var(--sg-text-color, var(--theme-code-foreground, var(--jp-content-font-color1, white)));\n",
       "    --sklearn-color-background: var(--sg-background-color, var(--theme-background, var(--jp-layout-color0, #111)));\n",
       "    --sklearn-color-border-box: var(--sg-text-color, var(--theme-code-foreground, var(--jp-content-font-color1, white)));\n",
       "    --sklearn-color-icon: #878787;\n",
       "  }\n",
       "}\n",
       "\n",
       "#sk-container-id-1 {\n",
       "  color: var(--sklearn-color-text);\n",
       "}\n",
       "\n",
       "#sk-container-id-1 pre {\n",
       "  padding: 0;\n",
       "}\n",
       "\n",
       "#sk-container-id-1 input.sk-hidden--visually {\n",
       "  border: 0;\n",
       "  clip: rect(1px 1px 1px 1px);\n",
       "  clip: rect(1px, 1px, 1px, 1px);\n",
       "  height: 1px;\n",
       "  margin: -1px;\n",
       "  overflow: hidden;\n",
       "  padding: 0;\n",
       "  position: absolute;\n",
       "  width: 1px;\n",
       "}\n",
       "\n",
       "#sk-container-id-1 div.sk-dashed-wrapped {\n",
       "  border: 1px dashed var(--sklearn-color-line);\n",
       "  margin: 0 0.4em 0.5em 0.4em;\n",
       "  box-sizing: border-box;\n",
       "  padding-bottom: 0.4em;\n",
       "  background-color: var(--sklearn-color-background);\n",
       "}\n",
       "\n",
       "#sk-container-id-1 div.sk-container {\n",
       "  /* jupyter's `normalize.less` sets `[hidden] { display: none; }`\n",
       "     but bootstrap.min.css set `[hidden] { display: none !important; }`\n",
       "     so we also need the `!important` here to be able to override the\n",
       "     default hidden behavior on the sphinx rendered scikit-learn.org.\n",
       "     See: https://github.com/scikit-learn/scikit-learn/issues/21755 */\n",
       "  display: inline-block !important;\n",
       "  position: relative;\n",
       "}\n",
       "\n",
       "#sk-container-id-1 div.sk-text-repr-fallback {\n",
       "  display: none;\n",
       "}\n",
       "\n",
       "div.sk-parallel-item,\n",
       "div.sk-serial,\n",
       "div.sk-item {\n",
       "  /* draw centered vertical line to link estimators */\n",
       "  background-image: linear-gradient(var(--sklearn-color-text-on-default-background), var(--sklearn-color-text-on-default-background));\n",
       "  background-size: 2px 100%;\n",
       "  background-repeat: no-repeat;\n",
       "  background-position: center center;\n",
       "}\n",
       "\n",
       "/* Parallel-specific style estimator block */\n",
       "\n",
       "#sk-container-id-1 div.sk-parallel-item::after {\n",
       "  content: \"\";\n",
       "  width: 100%;\n",
       "  border-bottom: 2px solid var(--sklearn-color-text-on-default-background);\n",
       "  flex-grow: 1;\n",
       "}\n",
       "\n",
       "#sk-container-id-1 div.sk-parallel {\n",
       "  display: flex;\n",
       "  align-items: stretch;\n",
       "  justify-content: center;\n",
       "  background-color: var(--sklearn-color-background);\n",
       "  position: relative;\n",
       "}\n",
       "\n",
       "#sk-container-id-1 div.sk-parallel-item {\n",
       "  display: flex;\n",
       "  flex-direction: column;\n",
       "}\n",
       "\n",
       "#sk-container-id-1 div.sk-parallel-item:first-child::after {\n",
       "  align-self: flex-end;\n",
       "  width: 50%;\n",
       "}\n",
       "\n",
       "#sk-container-id-1 div.sk-parallel-item:last-child::after {\n",
       "  align-self: flex-start;\n",
       "  width: 50%;\n",
       "}\n",
       "\n",
       "#sk-container-id-1 div.sk-parallel-item:only-child::after {\n",
       "  width: 0;\n",
       "}\n",
       "\n",
       "/* Serial-specific style estimator block */\n",
       "\n",
       "#sk-container-id-1 div.sk-serial {\n",
       "  display: flex;\n",
       "  flex-direction: column;\n",
       "  align-items: center;\n",
       "  background-color: var(--sklearn-color-background);\n",
       "  padding-right: 1em;\n",
       "  padding-left: 1em;\n",
       "}\n",
       "\n",
       "\n",
       "/* Toggleable style: style used for estimator/Pipeline/ColumnTransformer box that is\n",
       "clickable and can be expanded/collapsed.\n",
       "- Pipeline and ColumnTransformer use this feature and define the default style\n",
       "- Estimators will overwrite some part of the style using the `sk-estimator` class\n",
       "*/\n",
       "\n",
       "/* Pipeline and ColumnTransformer style (default) */\n",
       "\n",
       "#sk-container-id-1 div.sk-toggleable {\n",
       "  /* Default theme specific background. It is overwritten whether we have a\n",
       "  specific estimator or a Pipeline/ColumnTransformer */\n",
       "  background-color: var(--sklearn-color-background);\n",
       "}\n",
       "\n",
       "/* Toggleable label */\n",
       "#sk-container-id-1 label.sk-toggleable__label {\n",
       "  cursor: pointer;\n",
       "  display: block;\n",
       "  width: 100%;\n",
       "  margin-bottom: 0;\n",
       "  padding: 0.5em;\n",
       "  box-sizing: border-box;\n",
       "  text-align: center;\n",
       "}\n",
       "\n",
       "#sk-container-id-1 label.sk-toggleable__label-arrow:before {\n",
       "  /* Arrow on the left of the label */\n",
       "  content: \"▸\";\n",
       "  float: left;\n",
       "  margin-right: 0.25em;\n",
       "  color: var(--sklearn-color-icon);\n",
       "}\n",
       "\n",
       "#sk-container-id-1 label.sk-toggleable__label-arrow:hover:before {\n",
       "  color: var(--sklearn-color-text);\n",
       "}\n",
       "\n",
       "/* Toggleable content - dropdown */\n",
       "\n",
       "#sk-container-id-1 div.sk-toggleable__content {\n",
       "  max-height: 0;\n",
       "  max-width: 0;\n",
       "  overflow: hidden;\n",
       "  text-align: left;\n",
       "  /* unfitted */\n",
       "  background-color: var(--sklearn-color-unfitted-level-0);\n",
       "}\n",
       "\n",
       "#sk-container-id-1 div.sk-toggleable__content.fitted {\n",
       "  /* fitted */\n",
       "  background-color: var(--sklearn-color-fitted-level-0);\n",
       "}\n",
       "\n",
       "#sk-container-id-1 div.sk-toggleable__content pre {\n",
       "  margin: 0.2em;\n",
       "  border-radius: 0.25em;\n",
       "  color: var(--sklearn-color-text);\n",
       "  /* unfitted */\n",
       "  background-color: var(--sklearn-color-unfitted-level-0);\n",
       "}\n",
       "\n",
       "#sk-container-id-1 div.sk-toggleable__content.fitted pre {\n",
       "  /* unfitted */\n",
       "  background-color: var(--sklearn-color-fitted-level-0);\n",
       "}\n",
       "\n",
       "#sk-container-id-1 input.sk-toggleable__control:checked~div.sk-toggleable__content {\n",
       "  /* Expand drop-down */\n",
       "  max-height: 200px;\n",
       "  max-width: 100%;\n",
       "  overflow: auto;\n",
       "}\n",
       "\n",
       "#sk-container-id-1 input.sk-toggleable__control:checked~label.sk-toggleable__label-arrow:before {\n",
       "  content: \"▾\";\n",
       "}\n",
       "\n",
       "/* Pipeline/ColumnTransformer-specific style */\n",
       "\n",
       "#sk-container-id-1 div.sk-label input.sk-toggleable__control:checked~label.sk-toggleable__label {\n",
       "  color: var(--sklearn-color-text);\n",
       "  background-color: var(--sklearn-color-unfitted-level-2);\n",
       "}\n",
       "\n",
       "#sk-container-id-1 div.sk-label.fitted input.sk-toggleable__control:checked~label.sk-toggleable__label {\n",
       "  background-color: var(--sklearn-color-fitted-level-2);\n",
       "}\n",
       "\n",
       "/* Estimator-specific style */\n",
       "\n",
       "/* Colorize estimator box */\n",
       "#sk-container-id-1 div.sk-estimator input.sk-toggleable__control:checked~label.sk-toggleable__label {\n",
       "  /* unfitted */\n",
       "  background-color: var(--sklearn-color-unfitted-level-2);\n",
       "}\n",
       "\n",
       "#sk-container-id-1 div.sk-estimator.fitted input.sk-toggleable__control:checked~label.sk-toggleable__label {\n",
       "  /* fitted */\n",
       "  background-color: var(--sklearn-color-fitted-level-2);\n",
       "}\n",
       "\n",
       "#sk-container-id-1 div.sk-label label.sk-toggleable__label,\n",
       "#sk-container-id-1 div.sk-label label {\n",
       "  /* The background is the default theme color */\n",
       "  color: var(--sklearn-color-text-on-default-background);\n",
       "}\n",
       "\n",
       "/* On hover, darken the color of the background */\n",
       "#sk-container-id-1 div.sk-label:hover label.sk-toggleable__label {\n",
       "  color: var(--sklearn-color-text);\n",
       "  background-color: var(--sklearn-color-unfitted-level-2);\n",
       "}\n",
       "\n",
       "/* Label box, darken color on hover, fitted */\n",
       "#sk-container-id-1 div.sk-label.fitted:hover label.sk-toggleable__label.fitted {\n",
       "  color: var(--sklearn-color-text);\n",
       "  background-color: var(--sklearn-color-fitted-level-2);\n",
       "}\n",
       "\n",
       "/* Estimator label */\n",
       "\n",
       "#sk-container-id-1 div.sk-label label {\n",
       "  font-family: monospace;\n",
       "  font-weight: bold;\n",
       "  display: inline-block;\n",
       "  line-height: 1.2em;\n",
       "}\n",
       "\n",
       "#sk-container-id-1 div.sk-label-container {\n",
       "  text-align: center;\n",
       "}\n",
       "\n",
       "/* Estimator-specific */\n",
       "#sk-container-id-1 div.sk-estimator {\n",
       "  font-family: monospace;\n",
       "  border: 1px dotted var(--sklearn-color-border-box);\n",
       "  border-radius: 0.25em;\n",
       "  box-sizing: border-box;\n",
       "  margin-bottom: 0.5em;\n",
       "  /* unfitted */\n",
       "  background-color: var(--sklearn-color-unfitted-level-0);\n",
       "}\n",
       "\n",
       "#sk-container-id-1 div.sk-estimator.fitted {\n",
       "  /* fitted */\n",
       "  background-color: var(--sklearn-color-fitted-level-0);\n",
       "}\n",
       "\n",
       "/* on hover */\n",
       "#sk-container-id-1 div.sk-estimator:hover {\n",
       "  /* unfitted */\n",
       "  background-color: var(--sklearn-color-unfitted-level-2);\n",
       "}\n",
       "\n",
       "#sk-container-id-1 div.sk-estimator.fitted:hover {\n",
       "  /* fitted */\n",
       "  background-color: var(--sklearn-color-fitted-level-2);\n",
       "}\n",
       "\n",
       "/* Specification for estimator info (e.g. \"i\" and \"?\") */\n",
       "\n",
       "/* Common style for \"i\" and \"?\" */\n",
       "\n",
       ".sk-estimator-doc-link,\n",
       "a:link.sk-estimator-doc-link,\n",
       "a:visited.sk-estimator-doc-link {\n",
       "  float: right;\n",
       "  font-size: smaller;\n",
       "  line-height: 1em;\n",
       "  font-family: monospace;\n",
       "  background-color: var(--sklearn-color-background);\n",
       "  border-radius: 1em;\n",
       "  height: 1em;\n",
       "  width: 1em;\n",
       "  text-decoration: none !important;\n",
       "  margin-left: 1ex;\n",
       "  /* unfitted */\n",
       "  border: var(--sklearn-color-unfitted-level-1) 1pt solid;\n",
       "  color: var(--sklearn-color-unfitted-level-1);\n",
       "}\n",
       "\n",
       ".sk-estimator-doc-link.fitted,\n",
       "a:link.sk-estimator-doc-link.fitted,\n",
       "a:visited.sk-estimator-doc-link.fitted {\n",
       "  /* fitted */\n",
       "  border: var(--sklearn-color-fitted-level-1) 1pt solid;\n",
       "  color: var(--sklearn-color-fitted-level-1);\n",
       "}\n",
       "\n",
       "/* On hover */\n",
       "div.sk-estimator:hover .sk-estimator-doc-link:hover,\n",
       ".sk-estimator-doc-link:hover,\n",
       "div.sk-label-container:hover .sk-estimator-doc-link:hover,\n",
       ".sk-estimator-doc-link:hover {\n",
       "  /* unfitted */\n",
       "  background-color: var(--sklearn-color-unfitted-level-3);\n",
       "  color: var(--sklearn-color-background);\n",
       "  text-decoration: none;\n",
       "}\n",
       "\n",
       "div.sk-estimator.fitted:hover .sk-estimator-doc-link.fitted:hover,\n",
       ".sk-estimator-doc-link.fitted:hover,\n",
       "div.sk-label-container:hover .sk-estimator-doc-link.fitted:hover,\n",
       ".sk-estimator-doc-link.fitted:hover {\n",
       "  /* fitted */\n",
       "  background-color: var(--sklearn-color-fitted-level-3);\n",
       "  color: var(--sklearn-color-background);\n",
       "  text-decoration: none;\n",
       "}\n",
       "\n",
       "/* Span, style for the box shown on hovering the info icon */\n",
       ".sk-estimator-doc-link span {\n",
       "  display: none;\n",
       "  z-index: 9999;\n",
       "  position: relative;\n",
       "  font-weight: normal;\n",
       "  right: .2ex;\n",
       "  padding: .5ex;\n",
       "  margin: .5ex;\n",
       "  width: min-content;\n",
       "  min-width: 20ex;\n",
       "  max-width: 50ex;\n",
       "  color: var(--sklearn-color-text);\n",
       "  box-shadow: 2pt 2pt 4pt #999;\n",
       "  /* unfitted */\n",
       "  background: var(--sklearn-color-unfitted-level-0);\n",
       "  border: .5pt solid var(--sklearn-color-unfitted-level-3);\n",
       "}\n",
       "\n",
       ".sk-estimator-doc-link.fitted span {\n",
       "  /* fitted */\n",
       "  background: var(--sklearn-color-fitted-level-0);\n",
       "  border: var(--sklearn-color-fitted-level-3);\n",
       "}\n",
       "\n",
       ".sk-estimator-doc-link:hover span {\n",
       "  display: block;\n",
       "}\n",
       "\n",
       "/* \"?\"-specific style due to the `<a>` HTML tag */\n",
       "\n",
       "#sk-container-id-1 a.estimator_doc_link {\n",
       "  float: right;\n",
       "  font-size: 1rem;\n",
       "  line-height: 1em;\n",
       "  font-family: monospace;\n",
       "  background-color: var(--sklearn-color-background);\n",
       "  border-radius: 1rem;\n",
       "  height: 1rem;\n",
       "  width: 1rem;\n",
       "  text-decoration: none;\n",
       "  /* unfitted */\n",
       "  color: var(--sklearn-color-unfitted-level-1);\n",
       "  border: var(--sklearn-color-unfitted-level-1) 1pt solid;\n",
       "}\n",
       "\n",
       "#sk-container-id-1 a.estimator_doc_link.fitted {\n",
       "  /* fitted */\n",
       "  border: var(--sklearn-color-fitted-level-1) 1pt solid;\n",
       "  color: var(--sklearn-color-fitted-level-1);\n",
       "}\n",
       "\n",
       "/* On hover */\n",
       "#sk-container-id-1 a.estimator_doc_link:hover {\n",
       "  /* unfitted */\n",
       "  background-color: var(--sklearn-color-unfitted-level-3);\n",
       "  color: var(--sklearn-color-background);\n",
       "  text-decoration: none;\n",
       "}\n",
       "\n",
       "#sk-container-id-1 a.estimator_doc_link.fitted:hover {\n",
       "  /* fitted */\n",
       "  background-color: var(--sklearn-color-fitted-level-3);\n",
       "}\n",
       "</style><div id=\"sk-container-id-1\" class=\"sk-top-container\"><div class=\"sk-text-repr-fallback\"><pre>DecisionTreeRegressor()</pre><b>In a Jupyter environment, please rerun this cell to show the HTML representation or trust the notebook. <br />On GitHub, the HTML representation is unable to render, please try loading this page with nbviewer.org.</b></div><div class=\"sk-container\" hidden><div class=\"sk-item\"><div class=\"sk-estimator fitted sk-toggleable\"><input class=\"sk-toggleable__control sk-hidden--visually\" id=\"sk-estimator-id-1\" type=\"checkbox\" checked><label for=\"sk-estimator-id-1\" class=\"sk-toggleable__label fitted sk-toggleable__label-arrow fitted\">&nbsp;&nbsp;DecisionTreeRegressor<a class=\"sk-estimator-doc-link fitted\" rel=\"noreferrer\" target=\"_blank\" href=\"https://scikit-learn.org/1.5/modules/generated/sklearn.tree.DecisionTreeRegressor.html\">?<span>Documentation for DecisionTreeRegressor</span></a><span class=\"sk-estimator-doc-link fitted\">i<span>Fitted</span></span></label><div class=\"sk-toggleable__content fitted\"><pre>DecisionTreeRegressor()</pre></div> </div></div></div></div>"
      ],
      "text/plain": [
       "DecisionTreeRegressor()"
      ]
     },
     "execution_count": 50,
     "metadata": {},
     "output_type": "execute_result"
    }
   ],
   "source": [
    "dt.fit(x_train,y_train)\n"
   ]
  },
  {
   "cell_type": "markdown",
   "id": "af22f85a-1d81-405d-9360-1c8e9221c2fa",
   "metadata": {},
   "source": [
    "# Model Prediction"
   ]
  },
  {
   "cell_type": "code",
   "execution_count": 51,
   "id": "c4b8a92f-c66f-42fb-9496-42d961b0194e",
   "metadata": {},
   "outputs": [],
   "source": [
    "y_predict = dt.predict(x_test)"
   ]
  },
  {
   "cell_type": "code",
   "execution_count": 52,
   "id": "852d9e3b-4236-4ee6-a286-3e63655bbda9",
   "metadata": {},
   "outputs": [
    {
     "data": {
      "text/plain": [
       "0.9999806691283155"
      ]
     },
     "execution_count": 52,
     "metadata": {},
     "output_type": "execute_result"
    }
   ],
   "source": [
    "dt.score(x_train,y_train)\n"
   ]
  },
  {
   "cell_type": "code",
   "execution_count": 53,
   "id": "d14c488a-522f-4fc4-8b75-49b0d814ccb9",
   "metadata": {},
   "outputs": [],
   "source": [
    "from sklearn.metrics import r2_score\n",
    "from sklearn.metrics import mean_squared_error, mean_absolute_error\n",
    "from sklearn.metrics import accuracy_score"
   ]
  },
  {
   "cell_type": "code",
   "execution_count": 54,
   "id": "dcbe9261-e1b9-446f-944c-a64dd69c8142",
   "metadata": {},
   "outputs": [
    {
     "name": "stdout",
     "output_type": "stream",
     "text": [
      "91.85218424551915\n",
      "101964363.37950665\n",
      "5152.400379506641\n"
     ]
    }
   ],
   "source": [
    "print(r2_score(y_test, y_predict)*100)\n",
    "print(mean_squared_error(y_test, y_predict))\n",
    "print(mean_absolute_error(y_test, y_predict))"
   ]
  },
  {
   "cell_type": "code",
   "execution_count": null,
   "id": "00b3fa0d-5d20-4280-8d10-ddb0a839a4d4",
   "metadata": {},
   "outputs": [],
   "source": []
  },
  {
   "cell_type": "code",
   "execution_count": 67,
   "id": "c2c85e88-4839-42cb-899d-3523318fdbe2",
   "metadata": {},
   "outputs": [],
   "source": [
    "import pickle\n",
    "with open('salarypredictionmodel.pkl', 'wb') as file:\n",
    "    pickle.dump(dt,file)"
   ]
  },
  {
   "cell_type": "code",
   "execution_count": 68,
   "id": "86d21ae1-c4e6-46c2-9601-c81ab284f27b",
   "metadata": {},
   "outputs": [],
   "source": [
    "with open('label_encoding.pkl', 'wb') as file:\n",
    "    pickle.dump(x.columns.tolist(),file)"
   ]
  },
  {
   "cell_type": "code",
   "execution_count": 69,
   "id": "86484fed-6f14-4405-a29d-9f10af0c47fd",
   "metadata": {},
   "outputs": [
    {
     "ename": "ModuleNotFoundError",
     "evalue": "No module named 'google'",
     "output_type": "error",
     "traceback": [
      "\u001b[1;31m---------------------------------------------------------------------------\u001b[0m",
      "\u001b[1;31mModuleNotFoundError\u001b[0m                       Traceback (most recent call last)",
      "Cell \u001b[1;32mIn[69], line 1\u001b[0m\n\u001b[1;32m----> 1\u001b[0m \u001b[38;5;28;01mfrom\u001b[39;00m \u001b[38;5;21;01mgoogle\u001b[39;00m\u001b[38;5;21;01m.\u001b[39;00m\u001b[38;5;21;01mcolab\u001b[39;00m \u001b[38;5;28;01mimport\u001b[39;00m files\n",
      "\u001b[1;31mModuleNotFoundError\u001b[0m: No module named 'google'"
     ]
    }
   ],
   "source": [
    "from google.colab import files\n"
   ]
  },
  {
   "cell_type": "code",
   "execution_count": 63,
   "id": "143a3e68-5289-4582-9c02-d6801eb64373",
   "metadata": {},
   "outputs": [],
   "source": []
  },
  {
   "cell_type": "markdown",
   "id": "3d57ab61-2f5c-4bf6-882e-67f1b343ea95",
   "metadata": {},
   "source": [
    "# "
   ]
  }
 ],
 "metadata": {
  "kernelspec": {
   "display_name": "Python 3 (ipykernel)",
   "language": "python",
   "name": "python3"
  },
  "language_info": {
   "codemirror_mode": {
    "name": "ipython",
    "version": 3
   },
   "file_extension": ".py",
   "mimetype": "text/x-python",
   "name": "python",
   "nbconvert_exporter": "python",
   "pygments_lexer": "ipython3",
   "version": "3.12.3"
  }
 },
 "nbformat": 4,
 "nbformat_minor": 5
}
